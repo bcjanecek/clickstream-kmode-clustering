{
 "cells": [
  {
   "cell_type": "code",
   "execution_count": 251,
   "id": "5ea46acc",
   "metadata": {
    "ExecuteTime": {
     "end_time": "2021-12-21T00:51:51.071168Z",
     "start_time": "2021-12-21T00:51:51.043427Z"
    }
   },
   "outputs": [],
   "source": [
    "import pandas as pd\n",
    "pd.set_option('display.max_columns', None)\n",
    "pd.set_option('display.max_colwidth', 255)\n",
    "import numpy as np\n",
    "import datetime\n",
    "import pytz\n",
    "utc = pytz.utc # this is when creating a datetime and you need to set the tzinfo to utc\n",
    "import matplotlib.pyplot as plt\n",
    "%matplotlib inline\n",
    "import seaborn as sns\n",
    "import squarify\n",
    "\n",
    "# kmodes\n",
    "from kmodes.kmodes import KModes\n",
    "\n",
    "# metrics and evaluation\n",
    "from sklearn.metrics import silhouette_score \n",
    "from yellowbrick.cluster import SilhouetteVisualizer, silhouette_visualizer\n",
    "from sklearn.metrics import calinski_harabasz_score\n",
    "from yellowbrick.cluster import KElbowVisualizer\n",
    "from yellowbrick.cluster import InterclusterDistance"
   ]
  },
  {
   "cell_type": "markdown",
   "id": "502e29e8",
   "metadata": {},
   "source": [
    "# Import and Clean Data"
   ]
  },
  {
   "cell_type": "code",
   "execution_count": 252,
   "id": "7024203c",
   "metadata": {
    "ExecuteTime": {
     "end_time": "2021-12-21T00:51:51.086480Z",
     "start_time": "2021-12-21T00:51:51.073390Z"
    }
   },
   "outputs": [],
   "source": [
    "# taking too long - using just 2021 now"
   ]
  },
  {
   "cell_type": "code",
   "execution_count": 253,
   "id": "ea7ae608",
   "metadata": {
    "ExecuteTime": {
     "end_time": "2021-12-21T00:51:51.102389Z",
     "start_time": "2021-12-21T00:51:51.090391Z"
    }
   },
   "outputs": [],
   "source": [
    "# time cutoff\n",
    "earliest_cutoff = datetime.datetime(2021,1,1,tzinfo=utc)"
   ]
  },
  {
   "cell_type": "markdown",
   "id": "8ed01391",
   "metadata": {},
   "source": [
    "## Clickstream"
   ]
  },
  {
   "cell_type": "code",
   "execution_count": 254,
   "id": "1980ceb6",
   "metadata": {
    "ExecuteTime": {
     "end_time": "2021-12-21T00:51:57.598289Z",
     "start_time": "2021-12-21T00:51:51.105392Z"
    }
   },
   "outputs": [],
   "source": [
    "# import data and clean\n",
    "clickstream = pd.read_csv('clickstream.csv')\n",
    "clickstream['email'] = clickstream['email'].apply(lambda x: str(x).lower())\n",
    "clickstream['_time'] = pd.to_datetime(clickstream['_time'],\n",
    "                                      utc=True)\n",
    "clickstream = clickstream[clickstream['_time'] >= earliest_cutoff].reset_index(drop=True)"
   ]
  },
  {
   "cell_type": "markdown",
   "id": "35967ecd",
   "metadata": {},
   "source": [
    "## Page Views"
   ]
  },
  {
   "cell_type": "code",
   "execution_count": 255,
   "id": "b7f2b86f",
   "metadata": {
    "ExecuteTime": {
     "end_time": "2021-12-21T00:52:05.045905Z",
     "start_time": "2021-12-21T00:51:57.600296Z"
    },
    "scrolled": true
   },
   "outputs": [
    {
     "name": "stderr",
     "output_type": "stream",
     "text": [
      "C:\\Users\\bjane\\miniconda3\\envs\\non-seq-clickstream-clustering\\lib\\site-packages\\IPython\\core\\interactiveshell.py:3457: DtypeWarning: Columns (5) have mixed types.Specify dtype option on import or set low_memory=False.\n",
      "  exec(code_obj, self.user_global_ns, self.user_ns)\n"
     ]
    }
   ],
   "source": [
    "# import data and clean\n",
    "page_views = pd.read_csv('page_views.csv')\n",
    "page_views['email'] = page_views['email'].apply(lambda x: str(x).lower())\n",
    "page_views['_time'] = pd.to_datetime(page_views['_time'],\n",
    "                                     utc=True)\n",
    "page_views = page_views[page_views['_time'] >= earliest_cutoff].reset_index(drop=True)\n",
    "\n",
    "# drop MAGE and INDURE clicks\n",
    "exclude_articles = [\"MAGE\", \"INDURE Apps\"]\n",
    "page_views = page_views[~page_views['article_title'].isin(exclude_articles)].reset_index(drop=True)"
   ]
  },
  {
   "cell_type": "code",
   "execution_count": 256,
   "id": "6e8b0908",
   "metadata": {
    "ExecuteTime": {
     "end_time": "2021-12-21T00:52:05.061872Z",
     "start_time": "2021-12-21T00:52:05.047872Z"
    }
   },
   "outputs": [],
   "source": [
    "# function to define page view type\n",
    "def page_view_type(project_id, headline_page_view):\n",
    "    view_type = 0\n",
    "    # check if portal view\n",
    "    if project_id > 12 and project_id != 20000:\n",
    "        view_type = \"Page View - Portal\"\n",
    "    # check if coi headline view\n",
    "    elif project_id <= 12 and headline_page_view == 1:\n",
    "        view_type = \"Page View - COI (Headline)\"\n",
    "    # check if coi non-headline view\n",
    "    elif project_id <= 12 and headline_page_view == 0:\n",
    "        view_type = \"Page View - COI\"\n",
    "    # check if help page headline view\n",
    "    elif project_id == 20000 and headline_page_view == 1:\n",
    "        view_type = \"Page View - Help Page (Headline)\"\n",
    "    # check if help page non-headline view\n",
    "    elif project_id == 20000 and headline_page_view == 0:\n",
    "        view_type = \"Page View - Help Page\"\n",
    "        \n",
    "    return view_type"
   ]
  },
  {
   "cell_type": "code",
   "execution_count": 257,
   "id": "d9b3f805",
   "metadata": {
    "ExecuteTime": {
     "end_time": "2021-12-21T00:52:11.672457Z",
     "start_time": "2021-12-21T00:52:05.063871Z"
    }
   },
   "outputs": [],
   "source": [
    "# assign click type\n",
    "page_views['click'] = page_views.apply(lambda row: page_view_type(row['project_id'], row['headlinePageView']),\n",
    "                                       axis=1)"
   ]
  },
  {
   "cell_type": "code",
   "execution_count": 258,
   "id": "85b71fdd",
   "metadata": {
    "ExecuteTime": {
     "end_time": "2021-12-21T00:52:11.781461Z",
     "start_time": "2021-12-21T00:52:11.673452Z"
    }
   },
   "outputs": [],
   "source": [
    "# final\n",
    "page_views = page_views[['email', '_time', 'click']]"
   ]
  },
  {
   "cell_type": "code",
   "execution_count": 259,
   "id": "57b896fe",
   "metadata": {
    "ExecuteTime": {
     "end_time": "2021-12-21T00:52:11.842730Z",
     "start_time": "2021-12-21T00:52:11.786454Z"
    }
   },
   "outputs": [],
   "source": [
    "# dropy mystery clicks\n",
    "page_views = page_views[page_views['click']!=0]"
   ]
  },
  {
   "cell_type": "markdown",
   "id": "866e5023",
   "metadata": {},
   "source": [
    "## Searches"
   ]
  },
  {
   "cell_type": "code",
   "execution_count": 260,
   "id": "8f9ac7a2",
   "metadata": {
    "ExecuteTime": {
     "end_time": "2021-12-21T00:52:13.309269Z",
     "start_time": "2021-12-21T00:52:11.844129Z"
    }
   },
   "outputs": [],
   "source": [
    "# import data and clean\n",
    "searches = pd.read_csv('searches.csv')\n",
    "searches['email'] = searches['email'].apply(lambda x: str(x).lower())\n",
    "searches['_time'] = pd.to_datetime(searches['_time'],\n",
    "                                   utc=True)\n",
    "searches = searches[searches['_time'] >= earliest_cutoff].reset_index(drop=True)"
   ]
  },
  {
   "cell_type": "code",
   "execution_count": 261,
   "id": "6cede610",
   "metadata": {
    "ExecuteTime": {
     "end_time": "2021-12-21T00:52:13.356391Z",
     "start_time": "2021-12-21T00:52:13.310635Z"
    }
   },
   "outputs": [],
   "source": [
    "# assign click type\n",
    "searches['click'] = searches['search_string'].apply(lambda string: \"Search - Tag\" if pd.isnull(string) else \"Search - Query\")"
   ]
  },
  {
   "cell_type": "code",
   "execution_count": 262,
   "id": "b6e33f00",
   "metadata": {
    "ExecuteTime": {
     "end_time": "2021-12-21T00:52:13.387842Z",
     "start_time": "2021-12-21T00:52:13.357805Z"
    }
   },
   "outputs": [],
   "source": [
    "# final\n",
    "searches = searches[['email', '_time', 'click']]"
   ]
  },
  {
   "cell_type": "markdown",
   "id": "abdf92cb",
   "metadata": {},
   "source": [
    "## File Downloads"
   ]
  },
  {
   "cell_type": "code",
   "execution_count": 263,
   "id": "990c4189",
   "metadata": {
    "ExecuteTime": {
     "end_time": "2021-12-21T00:52:16.102831Z",
     "start_time": "2021-12-21T00:52:13.388806Z"
    }
   },
   "outputs": [
    {
     "name": "stderr",
     "output_type": "stream",
     "text": [
      "C:\\Users\\bjane\\miniconda3\\envs\\non-seq-clickstream-clustering\\lib\\site-packages\\IPython\\core\\interactiveshell.py:3457: DtypeWarning: Columns (4,5) have mixed types.Specify dtype option on import or set low_memory=False.\n",
      "  exec(code_obj, self.user_global_ns, self.user_ns)\n"
     ]
    }
   ],
   "source": [
    "# import data and clean\n",
    "file_downloads = pd.read_csv('file_downloads.csv')\n",
    "file_downloads['email'] = file_downloads['email'].apply(lambda x: str(x).lower())\n",
    "file_downloads['_time'] = pd.to_datetime(file_downloads['_time'],\n",
    "                                   utc=True)\n",
    "file_downloads = file_downloads[file_downloads['_time'] >= earliest_cutoff].reset_index(drop=True)"
   ]
  },
  {
   "cell_type": "code",
   "execution_count": 264,
   "id": "bdc80840",
   "metadata": {
    "ExecuteTime": {
     "end_time": "2021-12-21T00:52:16.118932Z",
     "start_time": "2021-12-21T00:52:16.106287Z"
    }
   },
   "outputs": [],
   "source": [
    "# assign click type\n",
    "file_downloads['click'] = \"File Download\""
   ]
  },
  {
   "cell_type": "code",
   "execution_count": 265,
   "id": "090ae3eb",
   "metadata": {
    "ExecuteTime": {
     "end_time": "2021-12-21T00:52:16.195598Z",
     "start_time": "2021-12-21T00:52:16.124936Z"
    }
   },
   "outputs": [],
   "source": [
    "file_downloads = file_downloads[['email', '_time', 'click']]"
   ]
  },
  {
   "cell_type": "markdown",
   "id": "0059e37e",
   "metadata": {},
   "source": [
    "## Discover Filtering"
   ]
  },
  {
   "cell_type": "code",
   "execution_count": 266,
   "id": "0e581dc3",
   "metadata": {
    "ExecuteTime": {
     "end_time": "2021-12-21T00:52:16.257288Z",
     "start_time": "2021-12-21T00:52:16.197678Z"
    }
   },
   "outputs": [],
   "source": [
    "# import and clean\n",
    "discover_filtering = pd.read_csv('discover_filtering.csv')\n",
    "discover_filtering['email'] = discover_filtering['email'].apply(lambda x: str(x).lower())\n",
    "discover_filtering['_time'] = pd.to_datetime(discover_filtering['_time'],\n",
    "                                   utc=True)\n",
    "discover_filtering = discover_filtering[discover_filtering['_time'] >= earliest_cutoff].reset_index(drop=True)\n",
    "\n",
    "# assign click type\n",
    "discover_filtering['click'] = \"Discover Filtering\""
   ]
  },
  {
   "cell_type": "code",
   "execution_count": 267,
   "id": "2bf63b8e",
   "metadata": {
    "ExecuteTime": {
     "end_time": "2021-12-21T00:52:16.664956Z",
     "start_time": "2021-12-21T00:52:16.261287Z"
    }
   },
   "outputs": [],
   "source": [
    "# transact together all events within 5 minutes of one another\n",
    "df_transactions = discover_filtering.set_index('_time').groupby('email').rolling('5MIN').count()\n",
    "unique_df_transactions = df_transactions[df_transactions['project_title']==1]\n",
    "\n",
    "discover_filtering = unique_df_transactions.reset_index()[['email', '_time']]\n",
    "discover_filtering['click'] = \"Discover Filtering\""
   ]
  },
  {
   "cell_type": "code",
   "execution_count": 268,
   "id": "481556f8",
   "metadata": {
    "ExecuteTime": {
     "end_time": "2021-12-21T00:52:16.680150Z",
     "start_time": "2021-12-21T00:52:16.666916Z"
    }
   },
   "outputs": [],
   "source": [
    "discover_filtering = discover_filtering[['email', '_time', 'click']]"
   ]
  },
  {
   "cell_type": "markdown",
   "id": "a99ce04d",
   "metadata": {},
   "source": [
    "# Assemble Clickstreams"
   ]
  },
  {
   "cell_type": "markdown",
   "id": "3bbb9aa1",
   "metadata": {
    "ExecuteTime": {
     "end_time": "2021-12-15T19:39:52.848564Z",
     "start_time": "2021-12-15T19:39:52.833564Z"
    }
   },
   "source": [
    "## Append All Actions"
   ]
  },
  {
   "cell_type": "code",
   "execution_count": 269,
   "id": "2f36a09f",
   "metadata": {
    "ExecuteTime": {
     "end_time": "2021-12-21T00:52:21.125775Z",
     "start_time": "2021-12-21T00:52:16.689159Z"
    }
   },
   "outputs": [],
   "source": [
    "# append\n",
    "clickstream_final = clickstream.append(page_views).append(searches).append(file_downloads).append(discover_filtering)\n",
    "# sort\n",
    "clickstream_final = clickstream_final.sort_values(by=['email', '_time']).reset_index(drop=True)"
   ]
  },
  {
   "cell_type": "markdown",
   "id": "9e990c84",
   "metadata": {},
   "source": [
    "## Define User Sessions"
   ]
  },
  {
   "cell_type": "code",
   "execution_count": 270,
   "id": "513268b7",
   "metadata": {
    "ExecuteTime": {
     "end_time": "2021-12-21T00:52:33.530027Z",
     "start_time": "2021-12-21T00:52:21.129030Z"
    }
   },
   "outputs": [],
   "source": [
    "# mark if an event marks a news session - 240 minutes of inactivity marks new session\n",
    "clickstream_final['new_session'] = clickstream_final.groupby('email')['_time'].apply(lambda x: x.diff().dt.seconds > 240*60)"
   ]
  },
  {
   "cell_type": "code",
   "execution_count": 271,
   "id": "51fd66c3",
   "metadata": {
    "ExecuteTime": {
     "end_time": "2021-12-21T00:52:33.796341Z",
     "start_time": "2021-12-21T00:52:33.531962Z"
    }
   },
   "outputs": [],
   "source": [
    "# add session data\n",
    "clickstream_final['session'] = clickstream_final.groupby('email')['new_session'].cumsum().astype('int')"
   ]
  },
  {
   "cell_type": "markdown",
   "id": "aec3ff14",
   "metadata": {},
   "source": [
    "## Experiment: Transact Together All Consecutive Clicks in Single Session"
   ]
  },
  {
   "cell_type": "code",
   "execution_count": 272,
   "id": "6c53523f",
   "metadata": {
    "ExecuteTime": {
     "end_time": "2021-12-21T00:52:33.811583Z",
     "start_time": "2021-12-21T00:52:33.802149Z"
    }
   },
   "outputs": [],
   "source": [
    "# 1. CREATE COLS WITH PREVIOUS EVENT AND PREVOIUS EVENT EMAIL AND PREVIOUS SESSION NUMBER\n",
    "# 2. DROP WHERE EVENT==PREVIOUS EVENT AND SESSION NUMBER==PREVIOUS SESSION NUMBER"
   ]
  },
  {
   "cell_type": "code",
   "execution_count": 273,
   "id": "dce59949",
   "metadata": {
    "ExecuteTime": {
     "end_time": "2021-12-21T00:52:34.246057Z",
     "start_time": "2021-12-21T00:52:33.817159Z"
    }
   },
   "outputs": [],
   "source": [
    "# add previous click col\n",
    "clickstream_final['previous_click'] = clickstream_final.groupby(['email', 'session'])['click'].shift(1)"
   ]
  },
  {
   "cell_type": "code",
   "execution_count": 274,
   "id": "99e16894",
   "metadata": {
    "ExecuteTime": {
     "end_time": "2021-12-21T00:52:34.574914Z",
     "start_time": "2021-12-21T00:52:34.248058Z"
    },
    "scrolled": true
   },
   "outputs": [],
   "source": [
    "clickstream_final = clickstream_final[clickstream_final['previous_click']!=clickstream_final['click']]"
   ]
  },
  {
   "cell_type": "markdown",
   "id": "f5b51c78",
   "metadata": {},
   "source": [
    "# Find Most Common Number of Actions per Session - ON HOLD"
   ]
  },
  {
   "cell_type": "code",
   "execution_count": 275,
   "id": "74545d9c",
   "metadata": {
    "ExecuteTime": {
     "end_time": "2021-12-21T00:52:34.589917Z",
     "start_time": "2021-12-21T00:52:34.576916Z"
    }
   },
   "outputs": [],
   "source": [
    "# we can capture at least 75% of user sessions with the first 4 clicks, half with just 2 clicks "
   ]
  },
  {
   "cell_type": "code",
   "execution_count": 276,
   "id": "fa90e608",
   "metadata": {
    "ExecuteTime": {
     "end_time": "2021-12-21T00:52:34.978797Z",
     "start_time": "2021-12-21T00:52:34.590919Z"
    }
   },
   "outputs": [
    {
     "data": {
      "text/plain": [
       "count    162483.000000\n",
       "mean          5.103574\n",
       "std           5.586751\n",
       "min           1.000000\n",
       "25%           2.000000\n",
       "50%           4.000000\n",
       "75%           6.000000\n",
       "max         259.000000\n",
       "Name: _time, dtype: float64"
      ]
     },
     "execution_count": 276,
     "metadata": {},
     "output_type": "execute_result"
    }
   ],
   "source": [
    "clickstream_final.groupby(['email', 'session']).count()['_time'].describe()"
   ]
  },
  {
   "cell_type": "code",
   "execution_count": 277,
   "id": "9354bcc3",
   "metadata": {
    "ExecuteTime": {
     "end_time": "2021-12-21T00:52:35.357636Z",
     "start_time": "2021-12-21T00:52:34.985797Z"
    }
   },
   "outputs": [
    {
     "data": {
      "text/plain": [
       "array([ 1.,  1.,  2.,  2.,  3.,  4.,  4.,  5.,  7., 11.])"
      ]
     },
     "execution_count": 277,
     "metadata": {},
     "output_type": "execute_result"
    }
   ],
   "source": [
    "np.percentile(clickstream_final.groupby(['email', 'session']).count()['_time'], np.arange(0, 100, 10))"
   ]
  },
  {
   "cell_type": "code",
   "execution_count": 278,
   "id": "fcb64305",
   "metadata": {
    "ExecuteTime": {
     "end_time": "2021-12-21T00:52:36.055981Z",
     "start_time": "2021-12-21T00:52:35.358826Z"
    }
   },
   "outputs": [
    {
     "data": {
      "text/plain": [
       "<AxesSubplot:>"
      ]
     },
     "execution_count": 278,
     "metadata": {},
     "output_type": "execute_result"
    },
    {
     "data": {
      "image/png": "[encoded data removed]",
      "text/plain": [
       "<Figure size 432x288 with 1 Axes>"
      ]
     },
     "metadata": {
      "needs_background": "light"
     },
     "output_type": "display_data"
    }
   ],
   "source": [
    "clickstream_final.groupby(['email', 'session']).count()['_time'].hist()"
   ]
  },
  {
   "cell_type": "code",
   "execution_count": 279,
   "id": "920fcf88",
   "metadata": {
    "ExecuteTime": {
     "end_time": "2021-12-21T00:52:37.585644Z",
     "start_time": "2021-12-21T00:52:36.057709Z"
    }
   },
   "outputs": [],
   "source": [
    "# look at first five events per session - ON HOLD\n",
    "clickstream_final_first_3clicks = clickstream_final.groupby(['email', 'session']).head(3)\n",
    "clickstream_final_first_4clicks = clickstream_final.groupby(['email', 'session']).head(4)\n",
    "clickstream_final_first_5clicks = clickstream_final.groupby(['email', 'session']).head(5)"
   ]
  },
  {
   "cell_type": "markdown",
   "id": "8bad3b72",
   "metadata": {},
   "source": [
    "# Prepare Data for K-Mode Clustering"
   ]
  },
  {
   "cell_type": "code",
   "execution_count": 280,
   "id": "440d1665",
   "metadata": {
    "ExecuteTime": {
     "end_time": "2021-12-21T00:52:38.659545Z",
     "start_time": "2021-12-21T00:52:37.587644Z"
    }
   },
   "outputs": [],
   "source": [
    "# create df of total clicks for each click type\n",
    "dummies = pd.get_dummies(clickstream_final['click'])\n",
    "combine = pd.concat([clickstream_final, dummies], axis=1)\n",
    "clickstream_nonsequential_summaries = combine.groupby(['email', 'session']).sum().reset_index()"
   ]
  },
  {
   "cell_type": "code",
   "execution_count": 281,
   "id": "2f69ab1e",
   "metadata": {
    "ExecuteTime": {
     "end_time": "2021-12-21T00:52:38.674504Z",
     "start_time": "2021-12-21T00:52:38.661845Z"
    }
   },
   "outputs": [],
   "source": [
    "# features only\n",
    "clickstream_nonsequential_summaries_features = clickstream_nonsequential_summaries.drop(['email', 'session', 'new_session'], axis=1)"
   ]
  },
  {
   "cell_type": "code",
   "execution_count": 282,
   "id": "70916ba4",
   "metadata": {
    "ExecuteTime": {
     "end_time": "2021-12-21T00:52:40.233872Z",
     "start_time": "2021-12-21T00:52:38.675428Z"
    }
   },
   "outputs": [],
   "source": [
    "# create binary version\n",
    "clickstream_nonsequential_summaries_features_binary = clickstream_nonsequential_summaries_features.applymap(lambda x: 1 if x > 0 else 0)"
   ]
  },
  {
   "cell_type": "markdown",
   "id": "54b1765f",
   "metadata": {},
   "source": [
    "# Clustering"
   ]
  },
  {
   "cell_type": "markdown",
   "id": "44ae507e",
   "metadata": {
    "ExecuteTime": {
     "end_time": "2021-12-16T19:00:44.872236Z",
     "start_time": "2021-12-16T19:00:44.857922Z"
    }
   },
   "source": [
    "## K-Modes"
   ]
  },
  {
   "cell_type": "markdown",
   "id": "e3f2f98b",
   "metadata": {},
   "source": [
    "### Choosing Optimal Number Clusters"
   ]
  },
  {
   "cell_type": "markdown",
   "id": "f37e098b",
   "metadata": {},
   "source": [
    "#### Elbow Method"
   ]
  },
  {
   "cell_type": "code",
   "execution_count": 283,
   "id": "2240434a",
   "metadata": {
    "ExecuteTime": {
     "end_time": "2021-12-21T00:52:40.248681Z",
     "start_time": "2021-12-21T00:52:40.235874Z"
    }
   },
   "outputs": [],
   "source": [
    "# TAKES A WHILE TO RUN! - 5 or 7 clusters seems optimal for 2021 data"
   ]
  },
  {
   "cell_type": "code",
   "execution_count": 284,
   "id": "5b6ff17a",
   "metadata": {
    "ExecuteTime": {
     "end_time": "2021-12-21T00:54:59.570879Z",
     "start_time": "2021-12-21T00:52:40.251875Z"
    },
    "scrolled": true
   },
   "outputs": [
    {
     "ename": "KeyboardInterrupt",
     "evalue": "",
     "output_type": "error",
     "traceback": [
      "\u001b[1;31m---------------------------------------------------------------------------\u001b[0m",
      "\u001b[1;31mKeyboardInterrupt\u001b[0m                         Traceback (most recent call last)",
      "\u001b[1;32m~\\AppData\\Local\\Temp/ipykernel_17860/299638444.py\u001b[0m in \u001b[0;36m<module>\u001b[1;34m\u001b[0m\n\u001b[0;32m      1\u001b[0m \u001b[0mmodel\u001b[0m\u001b[1;33m=\u001b[0m\u001b[0mKModes\u001b[0m\u001b[1;33m(\u001b[0m\u001b[1;33m)\u001b[0m\u001b[1;33m\u001b[0m\u001b[1;33m\u001b[0m\u001b[0m\n\u001b[0;32m      2\u001b[0m \u001b[0mvisualizer\u001b[0m \u001b[1;33m=\u001b[0m \u001b[0mKElbowVisualizer\u001b[0m\u001b[1;33m(\u001b[0m\u001b[0mmodel\u001b[0m\u001b[1;33m,\u001b[0m \u001b[0mk\u001b[0m\u001b[1;33m=\u001b[0m\u001b[1;33m(\u001b[0m\u001b[1;36m3\u001b[0m\u001b[1;33m,\u001b[0m\u001b[1;36m15\u001b[0m\u001b[1;33m)\u001b[0m\u001b[1;33m,\u001b[0m \u001b[0mtimings\u001b[0m\u001b[1;33m=\u001b[0m \u001b[1;32mTrue\u001b[0m\u001b[1;33m)\u001b[0m\u001b[1;33m\u001b[0m\u001b[1;33m\u001b[0m\u001b[0m\n\u001b[1;32m----> 3\u001b[1;33m \u001b[0mvisualizer\u001b[0m\u001b[1;33m.\u001b[0m\u001b[0mfit\u001b[0m\u001b[1;33m(\u001b[0m\u001b[0mclickstream_nonsequential_summaries_features_binary\u001b[0m\u001b[1;33m)\u001b[0m\u001b[1;33m\u001b[0m\u001b[1;33m\u001b[0m\u001b[0m\n\u001b[0m\u001b[0;32m      4\u001b[0m \u001b[1;31m#visualizer.show()\u001b[0m\u001b[1;33m\u001b[0m\u001b[1;33m\u001b[0m\u001b[1;33m\u001b[0m\u001b[0m\n",
      "\u001b[1;32m~\\miniconda3\\envs\\non-seq-clickstream-clustering\\lib\\site-packages\\yellowbrick\\cluster\\elbow.py\u001b[0m in \u001b[0;36mfit\u001b[1;34m(self, X, y, **kwargs)\u001b[0m\n\u001b[0;32m    310\u001b[0m             \u001b[1;31m# Set the k value and fit the model\u001b[0m\u001b[1;33m\u001b[0m\u001b[1;33m\u001b[0m\u001b[1;33m\u001b[0m\u001b[0m\n\u001b[0;32m    311\u001b[0m             \u001b[0mself\u001b[0m\u001b[1;33m.\u001b[0m\u001b[0mestimator\u001b[0m\u001b[1;33m.\u001b[0m\u001b[0mset_params\u001b[0m\u001b[1;33m(\u001b[0m\u001b[0mn_clusters\u001b[0m\u001b[1;33m=\u001b[0m\u001b[0mk\u001b[0m\u001b[1;33m)\u001b[0m\u001b[1;33m\u001b[0m\u001b[1;33m\u001b[0m\u001b[0m\n\u001b[1;32m--> 312\u001b[1;33m             \u001b[0mself\u001b[0m\u001b[1;33m.\u001b[0m\u001b[0mestimator\u001b[0m\u001b[1;33m.\u001b[0m\u001b[0mfit\u001b[0m\u001b[1;33m(\u001b[0m\u001b[0mX\u001b[0m\u001b[1;33m,\u001b[0m \u001b[1;33m**\u001b[0m\u001b[0mkwargs\u001b[0m\u001b[1;33m)\u001b[0m\u001b[1;33m\u001b[0m\u001b[1;33m\u001b[0m\u001b[0m\n\u001b[0m\u001b[0;32m    313\u001b[0m \u001b[1;33m\u001b[0m\u001b[0m\n\u001b[0;32m    314\u001b[0m             \u001b[1;31m# Append the time and score to our plottable metrics\u001b[0m\u001b[1;33m\u001b[0m\u001b[1;33m\u001b[0m\u001b[1;33m\u001b[0m\u001b[0m\n",
      "\u001b[1;32m~\\miniconda3\\envs\\non-seq-clickstream-clustering\\lib\\site-packages\\kmodes\\kmodes.py\u001b[0m in \u001b[0;36mfit\u001b[1;34m(self, X, y, **kwargs)\u001b[0m\n\u001b[0;32m    134\u001b[0m             \u001b[0mself\u001b[0m\u001b[1;33m.\u001b[0m\u001b[0mverbose\u001b[0m\u001b[1;33m,\u001b[0m\u001b[1;33m\u001b[0m\u001b[1;33m\u001b[0m\u001b[0m\n\u001b[0;32m    135\u001b[0m             \u001b[0mrandom_state\u001b[0m\u001b[1;33m,\u001b[0m\u001b[1;33m\u001b[0m\u001b[1;33m\u001b[0m\u001b[0m\n\u001b[1;32m--> 136\u001b[1;33m             \u001b[0mself\u001b[0m\u001b[1;33m.\u001b[0m\u001b[0mn_jobs\u001b[0m\u001b[1;33m,\u001b[0m\u001b[1;33m\u001b[0m\u001b[1;33m\u001b[0m\u001b[0m\n\u001b[0m\u001b[0;32m    137\u001b[0m         )\n\u001b[0;32m    138\u001b[0m         \u001b[1;32mreturn\u001b[0m \u001b[0mself\u001b[0m\u001b[1;33m\u001b[0m\u001b[1;33m\u001b[0m\u001b[0m\n",
      "\u001b[1;32m~\\miniconda3\\envs\\non-seq-clickstream-clustering\\lib\\site-packages\\kmodes\\kmodes.py\u001b[0m in \u001b[0;36mk_modes\u001b[1;34m(X, n_clusters, max_iter, dissim, init, n_init, verbose, random_state, n_jobs)\u001b[0m\n\u001b[0;32m    231\u001b[0m         \u001b[1;32mfor\u001b[0m \u001b[0minit_no\u001b[0m \u001b[1;32min\u001b[0m \u001b[0mrange\u001b[0m\u001b[1;33m(\u001b[0m\u001b[0mn_init\u001b[0m\u001b[1;33m)\u001b[0m\u001b[1;33m:\u001b[0m\u001b[1;33m\u001b[0m\u001b[1;33m\u001b[0m\u001b[0m\n\u001b[0;32m    232\u001b[0m             results.append(_k_modes_single(X, n_clusters, n_points, n_attrs, max_iter,\n\u001b[1;32m--> 233\u001b[1;33m                                            dissim, init, init_no, verbose, seeds[init_no]))\n\u001b[0m\u001b[0;32m    234\u001b[0m     \u001b[1;32melse\u001b[0m\u001b[1;33m:\u001b[0m\u001b[1;33m\u001b[0m\u001b[1;33m\u001b[0m\u001b[0m\n\u001b[0;32m    235\u001b[0m         results = Parallel(n_jobs=n_jobs, verbose=0)(\n",
      "\u001b[1;32m~\\miniconda3\\envs\\non-seq-clickstream-clustering\\lib\\site-packages\\kmodes\\kmodes.py\u001b[0m in \u001b[0;36m_k_modes_single\u001b[1;34m(X, n_clusters, n_points, n_attrs, max_iter, dissim, init, init_no, verbose, random_state)\u001b[0m\n\u001b[0;32m    318\u001b[0m         )\n\u001b[0;32m    319\u001b[0m         \u001b[1;31m# All points seen in this iteration\u001b[0m\u001b[1;33m\u001b[0m\u001b[1;33m\u001b[0m\u001b[1;33m\u001b[0m\u001b[0m\n\u001b[1;32m--> 320\u001b[1;33m         \u001b[0mlabels\u001b[0m\u001b[1;33m,\u001b[0m \u001b[0mncost\u001b[0m \u001b[1;33m=\u001b[0m \u001b[0mlabels_cost\u001b[0m\u001b[1;33m(\u001b[0m\u001b[0mX\u001b[0m\u001b[1;33m,\u001b[0m \u001b[0mcentroids\u001b[0m\u001b[1;33m,\u001b[0m \u001b[0mdissim\u001b[0m\u001b[1;33m,\u001b[0m \u001b[0mmembship\u001b[0m\u001b[1;33m)\u001b[0m\u001b[1;33m\u001b[0m\u001b[1;33m\u001b[0m\u001b[0m\n\u001b[0m\u001b[0;32m    321\u001b[0m         \u001b[0mconverged\u001b[0m \u001b[1;33m=\u001b[0m \u001b[1;33m(\u001b[0m\u001b[0mmoves\u001b[0m \u001b[1;33m==\u001b[0m \u001b[1;36m0\u001b[0m\u001b[1;33m)\u001b[0m \u001b[1;32mor\u001b[0m \u001b[1;33m(\u001b[0m\u001b[0mncost\u001b[0m \u001b[1;33m>=\u001b[0m \u001b[0mcost\u001b[0m\u001b[1;33m)\u001b[0m\u001b[1;33m\u001b[0m\u001b[1;33m\u001b[0m\u001b[0m\n\u001b[0;32m    322\u001b[0m         \u001b[0mepoch_costs\u001b[0m\u001b[1;33m.\u001b[0m\u001b[0mappend\u001b[0m\u001b[1;33m(\u001b[0m\u001b[0mncost\u001b[0m\u001b[1;33m)\u001b[0m\u001b[1;33m\u001b[0m\u001b[1;33m\u001b[0m\u001b[0m\n",
      "\u001b[1;32m~\\miniconda3\\envs\\non-seq-clickstream-clustering\\lib\\site-packages\\kmodes\\kmodes.py\u001b[0m in \u001b[0;36mlabels_cost\u001b[1;34m(X, centroids, dissim, membship)\u001b[0m\n\u001b[0;32m    193\u001b[0m     \u001b[1;32mfor\u001b[0m \u001b[0mipoint\u001b[0m\u001b[1;33m,\u001b[0m \u001b[0mcurpoint\u001b[0m \u001b[1;32min\u001b[0m \u001b[0menumerate\u001b[0m\u001b[1;33m(\u001b[0m\u001b[0mX\u001b[0m\u001b[1;33m)\u001b[0m\u001b[1;33m:\u001b[0m\u001b[1;33m\u001b[0m\u001b[1;33m\u001b[0m\u001b[0m\n\u001b[0;32m    194\u001b[0m         \u001b[0mdiss\u001b[0m \u001b[1;33m=\u001b[0m \u001b[0mdissim\u001b[0m\u001b[1;33m(\u001b[0m\u001b[0mcentroids\u001b[0m\u001b[1;33m,\u001b[0m \u001b[0mcurpoint\u001b[0m\u001b[1;33m,\u001b[0m \u001b[0mX\u001b[0m\u001b[1;33m=\u001b[0m\u001b[0mX\u001b[0m\u001b[1;33m,\u001b[0m \u001b[0mmembship\u001b[0m\u001b[1;33m=\u001b[0m\u001b[0mmembship\u001b[0m\u001b[1;33m)\u001b[0m\u001b[1;33m\u001b[0m\u001b[1;33m\u001b[0m\u001b[0m\n\u001b[1;32m--> 195\u001b[1;33m         \u001b[0mclust\u001b[0m \u001b[1;33m=\u001b[0m \u001b[0mnp\u001b[0m\u001b[1;33m.\u001b[0m\u001b[0margmin\u001b[0m\u001b[1;33m(\u001b[0m\u001b[0mdiss\u001b[0m\u001b[1;33m)\u001b[0m\u001b[1;33m\u001b[0m\u001b[1;33m\u001b[0m\u001b[0m\n\u001b[0m\u001b[0;32m    196\u001b[0m         \u001b[0mlabels\u001b[0m\u001b[1;33m[\u001b[0m\u001b[0mipoint\u001b[0m\u001b[1;33m]\u001b[0m \u001b[1;33m=\u001b[0m \u001b[0mclust\u001b[0m\u001b[1;33m\u001b[0m\u001b[1;33m\u001b[0m\u001b[0m\n\u001b[0;32m    197\u001b[0m         \u001b[0mcost\u001b[0m \u001b[1;33m+=\u001b[0m \u001b[0mdiss\u001b[0m\u001b[1;33m[\u001b[0m\u001b[0mclust\u001b[0m\u001b[1;33m]\u001b[0m\u001b[1;33m\u001b[0m\u001b[1;33m\u001b[0m\u001b[0m\n",
      "\u001b[1;32m<__array_function__ internals>\u001b[0m in \u001b[0;36margmin\u001b[1;34m(*args, **kwargs)\u001b[0m\n",
      "\u001b[1;32m~\\miniconda3\\envs\\non-seq-clickstream-clustering\\lib\\site-packages\\numpy\\core\\fromnumeric.py\u001b[0m in \u001b[0;36margmin\u001b[1;34m(a, axis, out)\u001b[0m\n\u001b[0;32m   1267\u001b[0m     \u001b[1;33m>>\u001b[0m\u001b[1;33m>\u001b[0m \u001b[1;31m# Same as np.min(x, axis=-1, keepdims=True)\u001b[0m\u001b[1;33m\u001b[0m\u001b[1;33m\u001b[0m\u001b[0m\n\u001b[0;32m   1268\u001b[0m     \u001b[1;33m>>\u001b[0m\u001b[1;33m>\u001b[0m \u001b[0mnp\u001b[0m\u001b[1;33m.\u001b[0m\u001b[0mtake_along_axis\u001b[0m\u001b[1;33m(\u001b[0m\u001b[0mx\u001b[0m\u001b[1;33m,\u001b[0m \u001b[0mnp\u001b[0m\u001b[1;33m.\u001b[0m\u001b[0mexpand_dims\u001b[0m\u001b[1;33m(\u001b[0m\u001b[0mindex_array\u001b[0m\u001b[1;33m,\u001b[0m \u001b[0maxis\u001b[0m\u001b[1;33m=\u001b[0m\u001b[1;33m-\u001b[0m\u001b[1;36m1\u001b[0m\u001b[1;33m)\u001b[0m\u001b[1;33m,\u001b[0m \u001b[0maxis\u001b[0m\u001b[1;33m=\u001b[0m\u001b[1;33m-\u001b[0m\u001b[1;36m1\u001b[0m\u001b[1;33m)\u001b[0m\u001b[1;33m\u001b[0m\u001b[1;33m\u001b[0m\u001b[0m\n\u001b[1;32m-> 1269\u001b[1;33m     array([[2],\n\u001b[0m\u001b[0;32m   1270\u001b[0m            [0]])\n\u001b[0;32m   1271\u001b[0m     \u001b[1;33m>>\u001b[0m\u001b[1;33m>\u001b[0m \u001b[1;31m# Same as np.max(x, axis=-1)\u001b[0m\u001b[1;33m\u001b[0m\u001b[1;33m\u001b[0m\u001b[0m\n",
      "\u001b[1;32m~\\miniconda3\\envs\\non-seq-clickstream-clustering\\lib\\site-packages\\numpy\\core\\fromnumeric.py\u001b[0m in \u001b[0;36m_wrapfunc\u001b[1;34m(obj, method, *args, **kwds)\u001b[0m\n\u001b[0;32m     56\u001b[0m     \u001b[1;32mtry\u001b[0m\u001b[1;33m:\u001b[0m\u001b[1;33m\u001b[0m\u001b[1;33m\u001b[0m\u001b[0m\n\u001b[0;32m     57\u001b[0m         \u001b[1;32mreturn\u001b[0m \u001b[0mbound\u001b[0m\u001b[1;33m(\u001b[0m\u001b[1;33m*\u001b[0m\u001b[0margs\u001b[0m\u001b[1;33m,\u001b[0m \u001b[1;33m**\u001b[0m\u001b[0mkwds\u001b[0m\u001b[1;33m)\u001b[0m\u001b[1;33m\u001b[0m\u001b[1;33m\u001b[0m\u001b[0m\n\u001b[1;32m---> 58\u001b[1;33m     \u001b[1;32mexcept\u001b[0m \u001b[0mTypeError\u001b[0m\u001b[1;33m:\u001b[0m\u001b[1;33m\u001b[0m\u001b[1;33m\u001b[0m\u001b[0m\n\u001b[0m\u001b[0;32m     59\u001b[0m         \u001b[1;31m# A TypeError occurs if the object does have such a method in its\u001b[0m\u001b[1;33m\u001b[0m\u001b[1;33m\u001b[0m\u001b[1;33m\u001b[0m\u001b[0m\n\u001b[0;32m     60\u001b[0m         \u001b[1;31m# class, but its signature is not identical to that of NumPy's. This\u001b[0m\u001b[1;33m\u001b[0m\u001b[1;33m\u001b[0m\u001b[1;33m\u001b[0m\u001b[0m\n",
      "\u001b[1;31mKeyboardInterrupt\u001b[0m: "
     ]
    }
   ],
   "source": [
    "#model=KModes()\n",
    "#visualizer = KElbowVisualizer(model, k=(3,15), timings= True)\n",
    "#visualizer.fit(clickstream_nonsequential_summaries_features_binary)\n",
    "#visualizer.show()"
   ]
  },
  {
   "cell_type": "markdown",
   "id": "2c0cc575",
   "metadata": {},
   "source": [
    "#### Calinski-Harabasz Index"
   ]
  },
  {
   "cell_type": "code",
   "execution_count": null,
   "id": "e1342b83",
   "metadata": {
    "ExecuteTime": {
     "end_time": "2021-12-21T00:54:59.571759Z",
     "start_time": "2021-12-21T00:54:59.571759Z"
    }
   },
   "outputs": [],
   "source": [
    "# CH method shows about 5 clusters ideally using 2021 data"
   ]
  },
  {
   "cell_type": "code",
   "execution_count": null,
   "id": "428bc238",
   "metadata": {
    "ExecuteTime": {
     "end_time": "2021-12-21T00:54:59.573760Z",
     "start_time": "2021-12-21T00:54:59.573760Z"
    }
   },
   "outputs": [],
   "source": [
    "model=KModes()\n",
    "#visualizer = KElbowVisualizer(model, k=(3,15),metric='calinski_harabasz', timings= True)\n",
    "#visualizer.fit(clickstream_nonsequential_summaries_features_binary)        # Fit the data to the visualizer\n",
    "#visualizer.show()        # Finalize and render the figure"
   ]
  },
  {
   "cell_type": "markdown",
   "id": "c8b51768",
   "metadata": {
    "ExecuteTime": {
     "end_time": "2021-12-16T19:44:28.843440Z",
     "start_time": "2021-12-16T19:44:28.824436Z"
    }
   },
   "source": [
    "### Modeling - 7 Clusters"
   ]
  },
  {
   "cell_type": "code",
   "execution_count": 286,
   "id": "bb0732e5",
   "metadata": {
    "ExecuteTime": {
     "end_time": "2021-12-21T01:21:39.928099Z",
     "start_time": "2021-12-21T00:56:09.991912Z"
    }
   },
   "outputs": [
    {
     "name": "stdout",
     "output_type": "stream",
     "text": [
      "Init: initializing centroids\n",
      "Init: initializing clusters\n",
      "Starting iterations...\n",
      "Run 1, iteration: 1/100, moves: 40683, cost: 221248.0\n",
      "Run 1, iteration: 2/100, moves: 8935, cost: 221248.0\n",
      "Init: initializing centroids\n",
      "Init: initializing clusters\n",
      "Starting iterations...\n",
      "Run 2, iteration: 1/100, moves: 25426, cost: 198792.0\n",
      "Run 2, iteration: 2/100, moves: 2016, cost: 198792.0\n",
      "Init: initializing centroids\n",
      "Init: initializing clusters\n",
      "Starting iterations...\n",
      "Run 3, iteration: 1/100, moves: 24786, cost: 200467.0\n",
      "Run 3, iteration: 2/100, moves: 422, cost: 200467.0\n",
      "Init: initializing centroids\n",
      "Init: initializing clusters\n",
      "Starting iterations...\n",
      "Run 4, iteration: 1/100, moves: 25736, cost: 215193.0\n",
      "Run 4, iteration: 2/100, moves: 3847, cost: 215193.0\n",
      "Init: initializing centroids\n",
      "Init: initializing clusters\n",
      "Starting iterations...\n",
      "Run 5, iteration: 1/100, moves: 23552, cost: 197759.0\n",
      "Run 5, iteration: 2/100, moves: 7944, cost: 196516.0\n",
      "Run 5, iteration: 3/100, moves: 588, cost: 196516.0\n",
      "Best run was number 5\n"
     ]
    }
   ],
   "source": [
    "# kmodes - remove n_init\n",
    "model = KModes(n_clusters=7, init='Huang', n_init=5, verbose=1, random_state=13)\n",
    "\n",
    "clusters = model.fit_predict(clickstream_nonsequential_summaries_features_binary)"
   ]
  },
  {
   "cell_type": "code",
   "execution_count": 287,
   "id": "d0772d99",
   "metadata": {
    "ExecuteTime": {
     "end_time": "2021-12-21T01:21:39.943170Z",
     "start_time": "2021-12-21T01:21:39.930100Z"
    }
   },
   "outputs": [],
   "source": [
    "clickstream_nonsequential_summaries_features_binary['cluster'] = clusters"
   ]
  },
  {
   "cell_type": "markdown",
   "id": "d584d18e",
   "metadata": {},
   "source": [
    "#### Evaluating Cluster"
   ]
  },
  {
   "cell_type": "markdown",
   "id": "714445fd",
   "metadata": {},
   "source": [
    "##### Actions for Each Cluster"
   ]
  },
  {
   "cell_type": "code",
   "execution_count": 288,
   "id": "e49de180",
   "metadata": {
    "ExecuteTime": {
     "end_time": "2021-12-21T01:21:40.036145Z",
     "start_time": "2021-12-21T01:21:39.945101Z"
    }
   },
   "outputs": [],
   "source": [
    "# create matrix with percentage of sessions which featured each click \n",
    "session_clicks_by_cluster = clickstream_nonsequential_summaries_features_binary.groupby('cluster').sum() / clickstream_nonsequential_summaries_features_binary.groupby('cluster').count()"
   ]
  },
  {
   "cell_type": "code",
   "execution_count": 289,
   "id": "ef04cca9",
   "metadata": {
    "ExecuteTime": {
     "end_time": "2021-12-21T01:21:41.156261Z",
     "start_time": "2021-12-21T01:21:40.038100Z"
    }
   },
   "outputs": [
    {
     "data": {
      "text/plain": [
       "<AxesSubplot:ylabel='cluster'>"
      ]
     },
     "execution_count": 289,
     "metadata": {},
     "output_type": "execute_result"
    },
    {
     "data": {
      "image/png": "[encoded data removed]",
      "text/plain": [
       "<Figure size 1080x432 with 2 Axes>"
      ]
     },
     "metadata": {},
     "output_type": "display_data"
    }
   ],
   "source": [
    "sns.set(rc = {'figure.figsize':(15,6)})\n",
    "sns.heatmap(round(session_clicks_by_cluster,2), annot=True, cmap=\"YlGnBu\")"
   ]
  },
  {
   "cell_type": "markdown",
   "id": "0829ea17",
   "metadata": {},
   "source": [
    "##### Cluster Centroids and Sizes"
   ]
  },
  {
   "cell_type": "code",
   "execution_count": 290,
   "id": "eed62a6e",
   "metadata": {
    "ExecuteTime": {
     "end_time": "2021-12-21T01:21:41.171032Z",
     "start_time": "2021-12-21T01:21:41.158263Z"
    }
   },
   "outputs": [],
   "source": [
    "# list of centroids with col names\n",
    "cluster_centroids_with_col = [list(zip(clickstream_nonsequential_summaries_features_binary.columns, i)) for i in model.cluster_centroids_]"
   ]
  },
  {
   "cell_type": "code",
   "execution_count": 291,
   "id": "cf06432d",
   "metadata": {
    "ExecuteTime": {
     "end_time": "2021-12-21T01:21:41.186265Z",
     "start_time": "2021-12-21T01:21:41.174261Z"
    }
   },
   "outputs": [],
   "source": [
    "# cluster centroids\n",
    "cluster_centroids = [[col[0] for col in cluster_centroid if col[1]] for cluster_centroid in cluster_centroids_with_col]"
   ]
  },
  {
   "cell_type": "code",
   "execution_count": 292,
   "id": "1324e48c",
   "metadata": {
    "ExecuteTime": {
     "end_time": "2021-12-21T01:21:41.217171Z",
     "start_time": "2021-12-21T01:21:41.189419Z"
    }
   },
   "outputs": [],
   "source": [
    "# cluster sizes \n",
    "cluster_sizes = clickstream_nonsequential_summaries_features_binary[['cluster', 'Discover Filtering']].groupby('cluster').count().rename(columns={'Discover Filtering': 'Total Sessions'})"
   ]
  },
  {
   "cell_type": "code",
   "execution_count": 293,
   "id": "7ed3a5f3",
   "metadata": {
    "ExecuteTime": {
     "end_time": "2021-12-21T01:21:41.233228Z",
     "start_time": "2021-12-21T01:21:41.219853Z"
    }
   },
   "outputs": [],
   "source": [
    "# clusters \n",
    "clusters = list(range(0,len(cluster_centroids)))"
   ]
  },
  {
   "cell_type": "code",
   "execution_count": 294,
   "id": "4ec61b73",
   "metadata": {
    "ExecuteTime": {
     "end_time": "2021-12-21T01:21:41.249125Z",
     "start_time": "2021-12-21T01:21:41.237632Z"
    }
   },
   "outputs": [],
   "source": [
    "# initialize df \n",
    "cluster_centroids_and_sizes = pd.DataFrame(columns=['Cluster', 'Centroids', 'Total Sessions'])\n",
    "\n",
    "# add data\n",
    "cluster_centroids_and_sizes['Cluster'] = clusters\n",
    "cluster_centroids_and_sizes['Centroids'] = cluster_centroids\n",
    "cluster_centroids_and_sizes['Total Sessions'] = cluster_sizes"
   ]
  },
  {
   "cell_type": "code",
   "execution_count": 295,
   "id": "616b6dab",
   "metadata": {
    "ExecuteTime": {
     "end_time": "2021-12-21T01:21:41.264628Z",
     "start_time": "2021-12-21T01:21:41.254571Z"
    }
   },
   "outputs": [],
   "source": [
    "# sort\n",
    "cluster_centroids_and_sizes = cluster_centroids_and_sizes.sort_values(by='Total Sessions',\n",
    "                                                                      ascending=False)"
   ]
  },
  {
   "cell_type": "code",
   "execution_count": 296,
   "id": "63985350",
   "metadata": {
    "ExecuteTime": {
     "end_time": "2021-12-21T01:21:41.296153Z",
     "start_time": "2021-12-21T01:21:41.268834Z"
    }
   },
   "outputs": [
    {
     "data": {
      "text/html": [
       "<div>\n",
       "<style scoped>\n",
       "    .dataframe tbody tr th:only-of-type {\n",
       "        vertical-align: middle;\n",
       "    }\n",
       "\n",
       "    .dataframe tbody tr th {\n",
       "        vertical-align: top;\n",
       "    }\n",
       "\n",
       "    .dataframe thead th {\n",
       "        text-align: right;\n",
       "    }\n",
       "</style>\n",
       "<table border=\"1\" class=\"dataframe\">\n",
       "  <thead>\n",
       "    <tr style=\"text-align: right;\">\n",
       "      <th></th>\n",
       "      <th>Cluster</th>\n",
       "      <th>Centroids</th>\n",
       "      <th>Total Sessions</th>\n",
       "    </tr>\n",
       "  </thead>\n",
       "  <tbody>\n",
       "    <tr>\n",
       "      <th>5</th>\n",
       "      <td>5</td>\n",
       "      <td>[Rocket Chat Launch, Toolbar - Discover]</td>\n",
       "      <td>67392</td>\n",
       "    </tr>\n",
       "    <tr>\n",
       "      <th>0</th>\n",
       "      <td>0</td>\n",
       "      <td>[Toolbar - Discover]</td>\n",
       "      <td>27811</td>\n",
       "    </tr>\n",
       "    <tr>\n",
       "      <th>1</th>\n",
       "      <td>1</td>\n",
       "      <td>[File Download, Page View - COI, Search - Query, Toolbar - Discover]</td>\n",
       "      <td>20804</td>\n",
       "    </tr>\n",
       "    <tr>\n",
       "      <th>2</th>\n",
       "      <td>2</td>\n",
       "      <td>[File Download, Page View - Portal, Toolbar - Discover, Toolbar - Portal]</td>\n",
       "      <td>19520</td>\n",
       "    </tr>\n",
       "    <tr>\n",
       "      <th>3</th>\n",
       "      <td>3</td>\n",
       "      <td>[Page View - Portal, Rocket Chat Launch, Toolbar - Discover]</td>\n",
       "      <td>11825</td>\n",
       "    </tr>\n",
       "    <tr>\n",
       "      <th>6</th>\n",
       "      <td>6</td>\n",
       "      <td>[Page View - COI, Toolbar - Discover]</td>\n",
       "      <td>7980</td>\n",
       "    </tr>\n",
       "    <tr>\n",
       "      <th>4</th>\n",
       "      <td>4</td>\n",
       "      <td>[Page View - COI]</td>\n",
       "      <td>7151</td>\n",
       "    </tr>\n",
       "  </tbody>\n",
       "</table>\n",
       "</div>"
      ],
      "text/plain": [
       "   Cluster  \\\n",
       "5        5   \n",
       "0        0   \n",
       "1        1   \n",
       "2        2   \n",
       "3        3   \n",
       "6        6   \n",
       "4        4   \n",
       "\n",
       "                                                                   Centroids  \\\n",
       "5                                   [Rocket Chat Launch, Toolbar - Discover]   \n",
       "0                                                       [Toolbar - Discover]   \n",
       "1       [File Download, Page View - COI, Search - Query, Toolbar - Discover]   \n",
       "2  [File Download, Page View - Portal, Toolbar - Discover, Toolbar - Portal]   \n",
       "3               [Page View - Portal, Rocket Chat Launch, Toolbar - Discover]   \n",
       "6                                      [Page View - COI, Toolbar - Discover]   \n",
       "4                                                          [Page View - COI]   \n",
       "\n",
       "   Total Sessions  \n",
       "5           67392  \n",
       "0           27811  \n",
       "1           20804  \n",
       "2           19520  \n",
       "3           11825  \n",
       "6            7980  \n",
       "4            7151  "
      ]
     },
     "execution_count": 296,
     "metadata": {},
     "output_type": "execute_result"
    }
   ],
   "source": [
    "cluster_centroids_and_sizes"
   ]
  },
  {
   "cell_type": "code",
   "execution_count": 297,
   "id": "b8a5ff0c",
   "metadata": {
    "ExecuteTime": {
     "end_time": "2021-12-21T01:21:41.513960Z",
     "start_time": "2021-12-21T01:21:41.299082Z"
    }
   },
   "outputs": [
    {
     "data": {
      "image/png": "[encoded data removed]",
      "text/plain": [
       "<Figure size 1080x1080 with 1 Axes>"
      ]
     },
     "metadata": {},
     "output_type": "display_data"
    }
   ],
   "source": [
    "# plot and create labels\n",
    "#squarify.plot(sizes=cluster_centroids_and_sizes['Total Sessions'], label=cluster_centroids_and_sizes['Cluster'], alpha=.8 )\n",
    "perc = [f'{i/cluster_centroids_and_sizes[\"Total Sessions\"].sum()*100:5.2f}%' for i in cluster_centroids_and_sizes['Total Sessions']]\n",
    "lbl = [f'{el[0]} = {el[1]}' for el in zip(cluster_centroids_and_sizes['Cluster'], perc)]\n",
    "\n",
    "sns.set(rc = {'figure.figsize':(15,15)})\n",
    "squarify.plot(sizes=cluster_centroids_and_sizes['Total Sessions'], label=lbl, alpha=.8)\n",
    "plt.axis('off')\n",
    "plt.show();"
   ]
  },
  {
   "cell_type": "markdown",
   "id": "9f66c543",
   "metadata": {
    "ExecuteTime": {
     "end_time": "2021-12-19T21:01:05.556589Z",
     "start_time": "2021-12-19T21:01:05.530867Z"
    }
   },
   "source": [
    "##### Investigating Specific Cluster Sessions"
   ]
  },
  {
   "cell_type": "code",
   "execution_count": 298,
   "id": "de5c7b5d",
   "metadata": {
    "ExecuteTime": {
     "end_time": "2021-12-21T01:21:41.762632Z",
     "start_time": "2021-12-21T01:21:41.515973Z"
    }
   },
   "outputs": [],
   "source": [
    "# add session and email data to binary clickstream summaries\n",
    "clickstreams_with_clusters = clickstream_nonsequential_summaries_features_binary.merge(clickstream_nonsequential_summaries[['email', 'session']],\n",
    "                                                                                          how='left',\n",
    "                                                                                          right_index=True,\n",
    "                                                                                          left_index=True)"
   ]
  },
  {
   "cell_type": "code",
   "execution_count": 299,
   "id": "0656c3fa",
   "metadata": {
    "ExecuteTime": {
     "end_time": "2021-12-21T01:21:47.872687Z",
     "start_time": "2021-12-21T01:21:41.764633Z"
    }
   },
   "outputs": [],
   "source": [
    "# add email and session data \n",
    "full_clickstreams_with_cluster = clickstream_final.merge(clickstreams_with_clusters[['email', 'session', 'cluster']], \n",
    "                                    on=['email', 'session'],\n",
    "                                    how='left')"
   ]
  },
  {
   "cell_type": "code",
   "execution_count": 337,
   "id": "5a10f424",
   "metadata": {
    "ExecuteTime": {
     "end_time": "2021-12-21T04:05:44.501108Z",
     "start_time": "2021-12-21T04:05:44.463146Z"
    },
    "scrolled": true
   },
   "outputs": [
    {
     "data": {
      "text/html": [
       "<div>\n",
       "<style scoped>\n",
       "    .dataframe tbody tr th:only-of-type {\n",
       "        vertical-align: middle;\n",
       "    }\n",
       "\n",
       "    .dataframe tbody tr th {\n",
       "        vertical-align: top;\n",
       "    }\n",
       "\n",
       "    .dataframe thead th {\n",
       "        text-align: right;\n",
       "    }\n",
       "</style>\n",
       "<table border=\"1\" class=\"dataframe\">\n",
       "  <thead>\n",
       "    <tr style=\"text-align: right;\">\n",
       "      <th></th>\n",
       "      <th>email</th>\n",
       "      <th>_time</th>\n",
       "      <th>click</th>\n",
       "      <th>new_session</th>\n",
       "      <th>session</th>\n",
       "      <th>previous_click</th>\n",
       "      <th>cluster</th>\n",
       "    </tr>\n",
       "  </thead>\n",
       "  <tbody>\n",
       "    <tr>\n",
       "      <th>56</th>\n",
       "      <td>00154435@mil.dk</td>\n",
       "      <td>2021-12-06 07:41:50+00:00</td>\n",
       "      <td>Page View - COI</td>\n",
       "      <td>True</td>\n",
       "      <td>6</td>\n",
       "      <td>NaN</td>\n",
       "      <td>4</td>\n",
       "    </tr>\n",
       "    <tr>\n",
       "      <th>57</th>\n",
       "      <td>00154435@mil.dk</td>\n",
       "      <td>2021-12-06 07:42:38+00:00</td>\n",
       "      <td>File Download</td>\n",
       "      <td>False</td>\n",
       "      <td>6</td>\n",
       "      <td>Page View - COI</td>\n",
       "      <td>4</td>\n",
       "    </tr>\n",
       "    <tr>\n",
       "      <th>58</th>\n",
       "      <td>00154435@mil.dk</td>\n",
       "      <td>2021-12-06 07:44:14+00:00</td>\n",
       "      <td>Page View - COI</td>\n",
       "      <td>False</td>\n",
       "      <td>6</td>\n",
       "      <td>File Download</td>\n",
       "      <td>4</td>\n",
       "    </tr>\n",
       "    <tr>\n",
       "      <th>72</th>\n",
       "      <td>00188185@mil.dk</td>\n",
       "      <td>2021-01-22 07:35:39+00:00</td>\n",
       "      <td>Page View - COI</td>\n",
       "      <td>False</td>\n",
       "      <td>0</td>\n",
       "      <td>NaN</td>\n",
       "      <td>4</td>\n",
       "    </tr>\n",
       "    <tr>\n",
       "      <th>73</th>\n",
       "      <td>00188185@mil.dk</td>\n",
       "      <td>2021-01-22 07:37:40+00:00</td>\n",
       "      <td>Toolbar - RFI</td>\n",
       "      <td>False</td>\n",
       "      <td>0</td>\n",
       "      <td>Page View - COI</td>\n",
       "      <td>4</td>\n",
       "    </tr>\n",
       "    <tr>\n",
       "      <th>74</th>\n",
       "      <td>00188185@mil.dk</td>\n",
       "      <td>2021-01-22 07:42:27+00:00</td>\n",
       "      <td>RFI View</td>\n",
       "      <td>False</td>\n",
       "      <td>0</td>\n",
       "      <td>Toolbar - RFI</td>\n",
       "      <td>4</td>\n",
       "    </tr>\n",
       "    <tr>\n",
       "      <th>75</th>\n",
       "      <td>00188185@mil.dk</td>\n",
       "      <td>2021-01-22 07:42:42+00:00</td>\n",
       "      <td>Page View - COI</td>\n",
       "      <td>False</td>\n",
       "      <td>0</td>\n",
       "      <td>RFI View</td>\n",
       "      <td>4</td>\n",
       "    </tr>\n",
       "    <tr>\n",
       "      <th>76</th>\n",
       "      <td>00188185@mil.dk</td>\n",
       "      <td>2021-01-25 04:56:09+00:00</td>\n",
       "      <td>Page View - COI</td>\n",
       "      <td>True</td>\n",
       "      <td>1</td>\n",
       "      <td>NaN</td>\n",
       "      <td>4</td>\n",
       "    </tr>\n",
       "    <tr>\n",
       "      <th>77</th>\n",
       "      <td>00188185@mil.dk</td>\n",
       "      <td>2021-01-25 04:58:59+00:00</td>\n",
       "      <td>File Download</td>\n",
       "      <td>False</td>\n",
       "      <td>1</td>\n",
       "      <td>Page View - COI</td>\n",
       "      <td>4</td>\n",
       "    </tr>\n",
       "    <tr>\n",
       "      <th>78</th>\n",
       "      <td>00188185@mil.dk</td>\n",
       "      <td>2021-01-25 05:00:53+00:00</td>\n",
       "      <td>Toolbar - RFI</td>\n",
       "      <td>False</td>\n",
       "      <td>1</td>\n",
       "      <td>File Download</td>\n",
       "      <td>4</td>\n",
       "    </tr>\n",
       "    <tr>\n",
       "      <th>79</th>\n",
       "      <td>00188185@mil.dk</td>\n",
       "      <td>2021-01-25 05:01:18+00:00</td>\n",
       "      <td>File Download</td>\n",
       "      <td>False</td>\n",
       "      <td>1</td>\n",
       "      <td>Toolbar - RFI</td>\n",
       "      <td>4</td>\n",
       "    </tr>\n",
       "    <tr>\n",
       "      <th>80</th>\n",
       "      <td>00188185@mil.dk</td>\n",
       "      <td>2021-01-25 05:01:31+00:00</td>\n",
       "      <td>RFI View</td>\n",
       "      <td>False</td>\n",
       "      <td>1</td>\n",
       "      <td>File Download</td>\n",
       "      <td>4</td>\n",
       "    </tr>\n",
       "    <tr>\n",
       "      <th>81</th>\n",
       "      <td>00188185@mil.dk</td>\n",
       "      <td>2021-01-25 05:01:40+00:00</td>\n",
       "      <td>Page View - COI</td>\n",
       "      <td>False</td>\n",
       "      <td>1</td>\n",
       "      <td>RFI View</td>\n",
       "      <td>4</td>\n",
       "    </tr>\n",
       "    <tr>\n",
       "      <th>82</th>\n",
       "      <td>00188185@mil.dk</td>\n",
       "      <td>2021-01-29 03:26:48+00:00</td>\n",
       "      <td>Page View - COI</td>\n",
       "      <td>True</td>\n",
       "      <td>2</td>\n",
       "      <td>NaN</td>\n",
       "      <td>4</td>\n",
       "    </tr>\n",
       "    <tr>\n",
       "      <th>83</th>\n",
       "      <td>00188185@mil.dk</td>\n",
       "      <td>2021-01-29 05:59:30+00:00</td>\n",
       "      <td>File Download</td>\n",
       "      <td>False</td>\n",
       "      <td>2</td>\n",
       "      <td>Page View - COI</td>\n",
       "      <td>4</td>\n",
       "    </tr>\n",
       "    <tr>\n",
       "      <th>84</th>\n",
       "      <td>00188185@mil.dk</td>\n",
       "      <td>2021-02-02 02:26:11+00:00</td>\n",
       "      <td>Page View - COI</td>\n",
       "      <td>True</td>\n",
       "      <td>3</td>\n",
       "      <td>NaN</td>\n",
       "      <td>4</td>\n",
       "    </tr>\n",
       "    <tr>\n",
       "      <th>85</th>\n",
       "      <td>00188185@mil.dk</td>\n",
       "      <td>2021-02-02 03:06:21+00:00</td>\n",
       "      <td>File Download</td>\n",
       "      <td>False</td>\n",
       "      <td>3</td>\n",
       "      <td>Page View - COI</td>\n",
       "      <td>4</td>\n",
       "    </tr>\n",
       "    <tr>\n",
       "      <th>86</th>\n",
       "      <td>00188185@mil.dk</td>\n",
       "      <td>2021-02-02 03:06:34+00:00</td>\n",
       "      <td>Page View - COI</td>\n",
       "      <td>False</td>\n",
       "      <td>3</td>\n",
       "      <td>File Download</td>\n",
       "      <td>4</td>\n",
       "    </tr>\n",
       "    <tr>\n",
       "      <th>87</th>\n",
       "      <td>00188185@mil.dk</td>\n",
       "      <td>2021-02-02 03:06:57+00:00</td>\n",
       "      <td>File Download</td>\n",
       "      <td>False</td>\n",
       "      <td>3</td>\n",
       "      <td>Page View - COI</td>\n",
       "      <td>4</td>\n",
       "    </tr>\n",
       "    <tr>\n",
       "      <th>88</th>\n",
       "      <td>00188185@mil.dk</td>\n",
       "      <td>2021-02-02 03:16:24+00:00</td>\n",
       "      <td>Page View - COI</td>\n",
       "      <td>False</td>\n",
       "      <td>3</td>\n",
       "      <td>File Download</td>\n",
       "      <td>4</td>\n",
       "    </tr>\n",
       "    <tr>\n",
       "      <th>89</th>\n",
       "      <td>00188185@mil.dk</td>\n",
       "      <td>2021-02-02 03:16:55+00:00</td>\n",
       "      <td>File Download</td>\n",
       "      <td>False</td>\n",
       "      <td>3</td>\n",
       "      <td>Page View - COI</td>\n",
       "      <td>4</td>\n",
       "    </tr>\n",
       "    <tr>\n",
       "      <th>96</th>\n",
       "      <td>00188185@mil.dk</td>\n",
       "      <td>2021-02-10 07:10:49+00:00</td>\n",
       "      <td>Page View - COI</td>\n",
       "      <td>True</td>\n",
       "      <td>5</td>\n",
       "      <td>NaN</td>\n",
       "      <td>4</td>\n",
       "    </tr>\n",
       "    <tr>\n",
       "      <th>97</th>\n",
       "      <td>00188185@mil.dk</td>\n",
       "      <td>2021-02-10 07:11:29+00:00</td>\n",
       "      <td>File Download</td>\n",
       "      <td>False</td>\n",
       "      <td>5</td>\n",
       "      <td>Page View - COI</td>\n",
       "      <td>4</td>\n",
       "    </tr>\n",
       "    <tr>\n",
       "      <th>107</th>\n",
       "      <td>00188185@mil.dk</td>\n",
       "      <td>2021-02-12 04:21:29+00:00</td>\n",
       "      <td>Page View - COI</td>\n",
       "      <td>True</td>\n",
       "      <td>7</td>\n",
       "      <td>NaN</td>\n",
       "      <td>4</td>\n",
       "    </tr>\n",
       "    <tr>\n",
       "      <th>108</th>\n",
       "      <td>00188185@mil.dk</td>\n",
       "      <td>2021-02-12 04:24:05+00:00</td>\n",
       "      <td>File Download</td>\n",
       "      <td>False</td>\n",
       "      <td>7</td>\n",
       "      <td>Page View - COI</td>\n",
       "      <td>4</td>\n",
       "    </tr>\n",
       "    <tr>\n",
       "      <th>109</th>\n",
       "      <td>00188185@mil.dk</td>\n",
       "      <td>2021-02-15 03:32:47+00:00</td>\n",
       "      <td>Page View - COI</td>\n",
       "      <td>True</td>\n",
       "      <td>8</td>\n",
       "      <td>NaN</td>\n",
       "      <td>4</td>\n",
       "    </tr>\n",
       "    <tr>\n",
       "      <th>110</th>\n",
       "      <td>00188185@mil.dk</td>\n",
       "      <td>2021-02-15 03:33:29+00:00</td>\n",
       "      <td>File Download</td>\n",
       "      <td>False</td>\n",
       "      <td>8</td>\n",
       "      <td>Page View - COI</td>\n",
       "      <td>4</td>\n",
       "    </tr>\n",
       "    <tr>\n",
       "      <th>111</th>\n",
       "      <td>00188185@mil.dk</td>\n",
       "      <td>2021-02-15 09:40:18+00:00</td>\n",
       "      <td>Page View - COI</td>\n",
       "      <td>True</td>\n",
       "      <td>9</td>\n",
       "      <td>NaN</td>\n",
       "      <td>4</td>\n",
       "    </tr>\n",
       "    <tr>\n",
       "      <th>112</th>\n",
       "      <td>00188185@mil.dk</td>\n",
       "      <td>2021-02-15 09:40:36+00:00</td>\n",
       "      <td>Toolbar - RFI</td>\n",
       "      <td>False</td>\n",
       "      <td>9</td>\n",
       "      <td>Page View - COI</td>\n",
       "      <td>4</td>\n",
       "    </tr>\n",
       "    <tr>\n",
       "      <th>113</th>\n",
       "      <td>00188185@mil.dk</td>\n",
       "      <td>2021-02-15 09:40:46+00:00</td>\n",
       "      <td>RFI View</td>\n",
       "      <td>False</td>\n",
       "      <td>9</td>\n",
       "      <td>Toolbar - RFI</td>\n",
       "      <td>4</td>\n",
       "    </tr>\n",
       "    <tr>\n",
       "      <th>114</th>\n",
       "      <td>00188185@mil.dk</td>\n",
       "      <td>2021-02-15 09:42:21+00:00</td>\n",
       "      <td>Toolbar - Portal</td>\n",
       "      <td>False</td>\n",
       "      <td>9</td>\n",
       "      <td>RFI View</td>\n",
       "      <td>4</td>\n",
       "    </tr>\n",
       "    <tr>\n",
       "      <th>115</th>\n",
       "      <td>00188185@mil.dk</td>\n",
       "      <td>2021-02-15 09:43:06+00:00</td>\n",
       "      <td>Page View - Portal</td>\n",
       "      <td>False</td>\n",
       "      <td>9</td>\n",
       "      <td>Toolbar - Portal</td>\n",
       "      <td>4</td>\n",
       "    </tr>\n",
       "    <tr>\n",
       "      <th>116</th>\n",
       "      <td>00188185@mil.dk</td>\n",
       "      <td>2021-02-15 09:43:18+00:00</td>\n",
       "      <td>Toolbar - Portal</td>\n",
       "      <td>False</td>\n",
       "      <td>9</td>\n",
       "      <td>Page View - Portal</td>\n",
       "      <td>4</td>\n",
       "    </tr>\n",
       "    <tr>\n",
       "      <th>117</th>\n",
       "      <td>00188185@mil.dk</td>\n",
       "      <td>2021-02-15 09:43:30+00:00</td>\n",
       "      <td>Toolbar - COI</td>\n",
       "      <td>False</td>\n",
       "      <td>9</td>\n",
       "      <td>Toolbar - Portal</td>\n",
       "      <td>4</td>\n",
       "    </tr>\n",
       "    <tr>\n",
       "      <th>118</th>\n",
       "      <td>00188185@mil.dk</td>\n",
       "      <td>2021-02-15 09:43:36+00:00</td>\n",
       "      <td>Page View - COI</td>\n",
       "      <td>False</td>\n",
       "      <td>9</td>\n",
       "      <td>Toolbar - COI</td>\n",
       "      <td>4</td>\n",
       "    </tr>\n",
       "    <tr>\n",
       "      <th>119</th>\n",
       "      <td>00188185@mil.dk</td>\n",
       "      <td>2021-02-15 09:44:20+00:00</td>\n",
       "      <td>Page View - Portal</td>\n",
       "      <td>False</td>\n",
       "      <td>9</td>\n",
       "      <td>Page View - COI</td>\n",
       "      <td>4</td>\n",
       "    </tr>\n",
       "    <tr>\n",
       "      <th>120</th>\n",
       "      <td>00188185@mil.dk</td>\n",
       "      <td>2021-02-15 09:44:38+00:00</td>\n",
       "      <td>Page View - COI</td>\n",
       "      <td>False</td>\n",
       "      <td>9</td>\n",
       "      <td>Page View - Portal</td>\n",
       "      <td>4</td>\n",
       "    </tr>\n",
       "    <tr>\n",
       "      <th>121</th>\n",
       "      <td>00188185@mil.dk</td>\n",
       "      <td>2021-02-17 02:30:19+00:00</td>\n",
       "      <td>Page View - COI</td>\n",
       "      <td>True</td>\n",
       "      <td>10</td>\n",
       "      <td>NaN</td>\n",
       "      <td>4</td>\n",
       "    </tr>\n",
       "    <tr>\n",
       "      <th>122</th>\n",
       "      <td>00188185@mil.dk</td>\n",
       "      <td>2021-02-17 02:31:20+00:00</td>\n",
       "      <td>File Download</td>\n",
       "      <td>False</td>\n",
       "      <td>10</td>\n",
       "      <td>Page View - COI</td>\n",
       "      <td>4</td>\n",
       "    </tr>\n",
       "    <tr>\n",
       "      <th>123</th>\n",
       "      <td>00188185@mil.dk</td>\n",
       "      <td>2021-02-17 02:36:07+00:00</td>\n",
       "      <td>Page View - COI</td>\n",
       "      <td>False</td>\n",
       "      <td>10</td>\n",
       "      <td>File Download</td>\n",
       "      <td>4</td>\n",
       "    </tr>\n",
       "    <tr>\n",
       "      <th>124</th>\n",
       "      <td>00188185@mil.dk</td>\n",
       "      <td>2021-02-18 08:42:31+00:00</td>\n",
       "      <td>Page View - COI</td>\n",
       "      <td>True</td>\n",
       "      <td>11</td>\n",
       "      <td>NaN</td>\n",
       "      <td>4</td>\n",
       "    </tr>\n",
       "    <tr>\n",
       "      <th>125</th>\n",
       "      <td>00188185@mil.dk</td>\n",
       "      <td>2021-02-18 08:44:29+00:00</td>\n",
       "      <td>Toolbar - Mail</td>\n",
       "      <td>False</td>\n",
       "      <td>11</td>\n",
       "      <td>Page View - COI</td>\n",
       "      <td>4</td>\n",
       "    </tr>\n",
       "    <tr>\n",
       "      <th>126</th>\n",
       "      <td>00188185@mil.dk</td>\n",
       "      <td>2021-02-18 08:44:40+00:00</td>\n",
       "      <td>Page View - COI</td>\n",
       "      <td>False</td>\n",
       "      <td>11</td>\n",
       "      <td>Toolbar - Mail</td>\n",
       "      <td>4</td>\n",
       "    </tr>\n",
       "    <tr>\n",
       "      <th>127</th>\n",
       "      <td>00188185@mil.dk</td>\n",
       "      <td>2021-03-11 06:06:07+00:00</td>\n",
       "      <td>Page View - COI</td>\n",
       "      <td>True</td>\n",
       "      <td>12</td>\n",
       "      <td>NaN</td>\n",
       "      <td>4</td>\n",
       "    </tr>\n",
       "    <tr>\n",
       "      <th>128</th>\n",
       "      <td>00188185@mil.dk</td>\n",
       "      <td>2021-03-11 06:08:08+00:00</td>\n",
       "      <td>File Download</td>\n",
       "      <td>False</td>\n",
       "      <td>12</td>\n",
       "      <td>Page View - COI</td>\n",
       "      <td>4</td>\n",
       "    </tr>\n",
       "    <tr>\n",
       "      <th>129</th>\n",
       "      <td>00188185@mil.dk</td>\n",
       "      <td>2021-03-11 07:25:05+00:00</td>\n",
       "      <td>Page View - COI</td>\n",
       "      <td>False</td>\n",
       "      <td>12</td>\n",
       "      <td>File Download</td>\n",
       "      <td>4</td>\n",
       "    </tr>\n",
       "    <tr>\n",
       "      <th>130</th>\n",
       "      <td>00188185@mil.dk</td>\n",
       "      <td>2021-03-11 07:25:31+00:00</td>\n",
       "      <td>File Download</td>\n",
       "      <td>False</td>\n",
       "      <td>12</td>\n",
       "      <td>Page View - COI</td>\n",
       "      <td>4</td>\n",
       "    </tr>\n",
       "    <tr>\n",
       "      <th>131</th>\n",
       "      <td>00188185@mil.dk</td>\n",
       "      <td>2021-03-11 07:28:51+00:00</td>\n",
       "      <td>Toolbar - COI</td>\n",
       "      <td>False</td>\n",
       "      <td>12</td>\n",
       "      <td>File Download</td>\n",
       "      <td>4</td>\n",
       "    </tr>\n",
       "    <tr>\n",
       "      <th>132</th>\n",
       "      <td>00188185@mil.dk</td>\n",
       "      <td>2021-03-11 07:28:58+00:00</td>\n",
       "      <td>Page View - COI</td>\n",
       "      <td>False</td>\n",
       "      <td>12</td>\n",
       "      <td>Toolbar - COI</td>\n",
       "      <td>4</td>\n",
       "    </tr>\n",
       "    <tr>\n",
       "      <th>133</th>\n",
       "      <td>00188185@mil.dk</td>\n",
       "      <td>2021-03-11 07:30:40+00:00</td>\n",
       "      <td>File Download</td>\n",
       "      <td>False</td>\n",
       "      <td>12</td>\n",
       "      <td>Page View - COI</td>\n",
       "      <td>4</td>\n",
       "    </tr>\n",
       "  </tbody>\n",
       "</table>\n",
       "</div>"
      ],
      "text/plain": [
       "               email                     _time               click  \\\n",
       "56   00154435@mil.dk 2021-12-06 07:41:50+00:00     Page View - COI   \n",
       "57   00154435@mil.dk 2021-12-06 07:42:38+00:00       File Download   \n",
       "58   00154435@mil.dk 2021-12-06 07:44:14+00:00     Page View - COI   \n",
       "72   00188185@mil.dk 2021-01-22 07:35:39+00:00     Page View - COI   \n",
       "73   00188185@mil.dk 2021-01-22 07:37:40+00:00       Toolbar - RFI   \n",
       "74   00188185@mil.dk 2021-01-22 07:42:27+00:00            RFI View   \n",
       "75   00188185@mil.dk 2021-01-22 07:42:42+00:00     Page View - COI   \n",
       "76   00188185@mil.dk 2021-01-25 04:56:09+00:00     Page View - COI   \n",
       "77   00188185@mil.dk 2021-01-25 04:58:59+00:00       File Download   \n",
       "78   00188185@mil.dk 2021-01-25 05:00:53+00:00       Toolbar - RFI   \n",
       "79   00188185@mil.dk 2021-01-25 05:01:18+00:00       File Download   \n",
       "80   00188185@mil.dk 2021-01-25 05:01:31+00:00            RFI View   \n",
       "81   00188185@mil.dk 2021-01-25 05:01:40+00:00     Page View - COI   \n",
       "82   00188185@mil.dk 2021-01-29 03:26:48+00:00     Page View - COI   \n",
       "83   00188185@mil.dk 2021-01-29 05:59:30+00:00       File Download   \n",
       "84   00188185@mil.dk 2021-02-02 02:26:11+00:00     Page View - COI   \n",
       "85   00188185@mil.dk 2021-02-02 03:06:21+00:00       File Download   \n",
       "86   00188185@mil.dk 2021-02-02 03:06:34+00:00     Page View - COI   \n",
       "87   00188185@mil.dk 2021-02-02 03:06:57+00:00       File Download   \n",
       "88   00188185@mil.dk 2021-02-02 03:16:24+00:00     Page View - COI   \n",
       "89   00188185@mil.dk 2021-02-02 03:16:55+00:00       File Download   \n",
       "96   00188185@mil.dk 2021-02-10 07:10:49+00:00     Page View - COI   \n",
       "97   00188185@mil.dk 2021-02-10 07:11:29+00:00       File Download   \n",
       "107  00188185@mil.dk 2021-02-12 04:21:29+00:00     Page View - COI   \n",
       "108  00188185@mil.dk 2021-02-12 04:24:05+00:00       File Download   \n",
       "109  00188185@mil.dk 2021-02-15 03:32:47+00:00     Page View - COI   \n",
       "110  00188185@mil.dk 2021-02-15 03:33:29+00:00       File Download   \n",
       "111  00188185@mil.dk 2021-02-15 09:40:18+00:00     Page View - COI   \n",
       "112  00188185@mil.dk 2021-02-15 09:40:36+00:00       Toolbar - RFI   \n",
       "113  00188185@mil.dk 2021-02-15 09:40:46+00:00            RFI View   \n",
       "114  00188185@mil.dk 2021-02-15 09:42:21+00:00    Toolbar - Portal   \n",
       "115  00188185@mil.dk 2021-02-15 09:43:06+00:00  Page View - Portal   \n",
       "116  00188185@mil.dk 2021-02-15 09:43:18+00:00    Toolbar - Portal   \n",
       "117  00188185@mil.dk 2021-02-15 09:43:30+00:00       Toolbar - COI   \n",
       "118  00188185@mil.dk 2021-02-15 09:43:36+00:00     Page View - COI   \n",
       "119  00188185@mil.dk 2021-02-15 09:44:20+00:00  Page View - Portal   \n",
       "120  00188185@mil.dk 2021-02-15 09:44:38+00:00     Page View - COI   \n",
       "121  00188185@mil.dk 2021-02-17 02:30:19+00:00     Page View - COI   \n",
       "122  00188185@mil.dk 2021-02-17 02:31:20+00:00       File Download   \n",
       "123  00188185@mil.dk 2021-02-17 02:36:07+00:00     Page View - COI   \n",
       "124  00188185@mil.dk 2021-02-18 08:42:31+00:00     Page View - COI   \n",
       "125  00188185@mil.dk 2021-02-18 08:44:29+00:00      Toolbar - Mail   \n",
       "126  00188185@mil.dk 2021-02-18 08:44:40+00:00     Page View - COI   \n",
       "127  00188185@mil.dk 2021-03-11 06:06:07+00:00     Page View - COI   \n",
       "128  00188185@mil.dk 2021-03-11 06:08:08+00:00       File Download   \n",
       "129  00188185@mil.dk 2021-03-11 07:25:05+00:00     Page View - COI   \n",
       "130  00188185@mil.dk 2021-03-11 07:25:31+00:00       File Download   \n",
       "131  00188185@mil.dk 2021-03-11 07:28:51+00:00       Toolbar - COI   \n",
       "132  00188185@mil.dk 2021-03-11 07:28:58+00:00     Page View - COI   \n",
       "133  00188185@mil.dk 2021-03-11 07:30:40+00:00       File Download   \n",
       "\n",
       "     new_session  session      previous_click  cluster  \n",
       "56          True        6                 NaN        4  \n",
       "57         False        6     Page View - COI        4  \n",
       "58         False        6       File Download        4  \n",
       "72         False        0                 NaN        4  \n",
       "73         False        0     Page View - COI        4  \n",
       "74         False        0       Toolbar - RFI        4  \n",
       "75         False        0            RFI View        4  \n",
       "76          True        1                 NaN        4  \n",
       "77         False        1     Page View - COI        4  \n",
       "78         False        1       File Download        4  \n",
       "79         False        1       Toolbar - RFI        4  \n",
       "80         False        1       File Download        4  \n",
       "81         False        1            RFI View        4  \n",
       "82          True        2                 NaN        4  \n",
       "83         False        2     Page View - COI        4  \n",
       "84          True        3                 NaN        4  \n",
       "85         False        3     Page View - COI        4  \n",
       "86         False        3       File Download        4  \n",
       "87         False        3     Page View - COI        4  \n",
       "88         False        3       File Download        4  \n",
       "89         False        3     Page View - COI        4  \n",
       "96          True        5                 NaN        4  \n",
       "97         False        5     Page View - COI        4  \n",
       "107         True        7                 NaN        4  \n",
       "108        False        7     Page View - COI        4  \n",
       "109         True        8                 NaN        4  \n",
       "110        False        8     Page View - COI        4  \n",
       "111         True        9                 NaN        4  \n",
       "112        False        9     Page View - COI        4  \n",
       "113        False        9       Toolbar - RFI        4  \n",
       "114        False        9            RFI View        4  \n",
       "115        False        9    Toolbar - Portal        4  \n",
       "116        False        9  Page View - Portal        4  \n",
       "117        False        9    Toolbar - Portal        4  \n",
       "118        False        9       Toolbar - COI        4  \n",
       "119        False        9     Page View - COI        4  \n",
       "120        False        9  Page View - Portal        4  \n",
       "121         True       10                 NaN        4  \n",
       "122        False       10     Page View - COI        4  \n",
       "123        False       10       File Download        4  \n",
       "124         True       11                 NaN        4  \n",
       "125        False       11     Page View - COI        4  \n",
       "126        False       11      Toolbar - Mail        4  \n",
       "127         True       12                 NaN        4  \n",
       "128        False       12     Page View - COI        4  \n",
       "129        False       12       File Download        4  \n",
       "130        False       12     Page View - COI        4  \n",
       "131        False       12       File Download        4  \n",
       "132        False       12       Toolbar - COI        4  \n",
       "133        False       12     Page View - COI        4  "
      ]
     },
     "execution_count": 337,
     "metadata": {},
     "output_type": "execute_result"
    }
   ],
   "source": [
    "# look at sessions for cluster of interest\n",
    "cluster_of_interest = 4\n",
    "\n",
    "full_clickstreams_with_cluster[full_clickstreams_with_cluster['cluster'] == cluster_of_interest].head(50)"
   ]
  },
  {
   "cell_type": "markdown",
   "id": "de9eb1b6",
   "metadata": {},
   "source": [
    "##### Silhouette Score"
   ]
  },
  {
   "cell_type": "code",
   "execution_count": 301,
   "id": "a00e66c7",
   "metadata": {
    "ExecuteTime": {
     "end_time": "2021-12-21T01:26:59.819631Z",
     "start_time": "2021-12-21T01:21:48.049145Z"
    }
   },
   "outputs": [
    {
     "data": {
      "text/plain": [
       "0.33234142602611094"
      ]
     },
     "execution_count": 301,
     "metadata": {},
     "output_type": "execute_result"
    }
   ],
   "source": [
    "silhouette_score(clickstream_nonsequential_summaries_features_binary.drop(['cluster'], axis=1),\n",
    "                 clickstream_nonsequential_summaries_features_binary['cluster'])"
   ]
  },
  {
   "cell_type": "markdown",
   "id": "e0b2ecbe",
   "metadata": {
    "ExecuteTime": {
     "end_time": "2021-12-16T19:44:28.843440Z",
     "start_time": "2021-12-16T19:44:28.824436Z"
    }
   },
   "source": [
    "### Modeling - 5 Clusters"
   ]
  },
  {
   "cell_type": "code",
   "execution_count": 318,
   "id": "01ee5b2c",
   "metadata": {
    "ExecuteTime": {
     "end_time": "2021-12-21T02:28:52.017471Z",
     "start_time": "2021-12-21T02:12:19.854717Z"
    }
   },
   "outputs": [
    {
     "name": "stdout",
     "output_type": "stream",
     "text": [
      "Init: initializing centroids\n",
      "Init: initializing clusters\n",
      "Starting iterations...\n",
      "Run 1, iteration: 1/100, moves: 33553, cost: 214559.0\n",
      "Run 1, iteration: 2/100, moves: 11320, cost: 214559.0\n",
      "Init: initializing centroids\n",
      "Init: initializing clusters\n",
      "Starting iterations...\n",
      "Run 2, iteration: 1/100, moves: 26743, cost: 225280.0\n",
      "Run 2, iteration: 2/100, moves: 9154, cost: 225280.0\n",
      "Init: initializing centroids\n",
      "Init: initializing clusters\n",
      "Starting iterations...\n",
      "Run 3, iteration: 1/100, moves: 30855, cost: 223098.0\n",
      "Run 3, iteration: 2/100, moves: 15128, cost: 223098.0\n",
      "Init: initializing centroids\n",
      "Init: initializing clusters\n",
      "Starting iterations...\n",
      "Run 4, iteration: 1/100, moves: 0, cost: 224512.0\n",
      "Init: initializing centroids\n",
      "Init: initializing clusters\n",
      "Starting iterations...\n",
      "Run 5, iteration: 1/100, moves: 24219, cost: 222313.0\n",
      "Run 5, iteration: 2/100, moves: 4421, cost: 222313.0\n",
      "Best run was number 1\n"
     ]
    }
   ],
   "source": [
    "# kmodes - remove n_init\n",
    "model2 = KModes(n_clusters=5, init='Huang', n_init=5, verbose=1, random_state=13)\n",
    "\n",
    "clusters2 = model2.fit_predict(clickstream_nonsequential_summaries_features_binary.drop(['cluster'], axis=1))"
   ]
  },
  {
   "cell_type": "code",
   "execution_count": 319,
   "id": "d63fd4a0",
   "metadata": {
    "ExecuteTime": {
     "end_time": "2021-12-21T02:28:54.701245Z",
     "start_time": "2021-12-21T02:28:54.694247Z"
    }
   },
   "outputs": [],
   "source": [
    "clickstream_nonsequential_summaries_features_binary['cluster2'] = clusters2"
   ]
  },
  {
   "cell_type": "markdown",
   "id": "e1330392",
   "metadata": {},
   "source": [
    "#### Evaluating Cluster"
   ]
  },
  {
   "cell_type": "markdown",
   "id": "62671bf8",
   "metadata": {},
   "source": [
    "##### Actions for Each Cluster"
   ]
  },
  {
   "cell_type": "code",
   "execution_count": 320,
   "id": "35f648a8",
   "metadata": {
    "ExecuteTime": {
     "end_time": "2021-12-21T02:28:55.901270Z",
     "start_time": "2021-12-21T02:28:55.813514Z"
    }
   },
   "outputs": [],
   "source": [
    "# create matrix with percentage of sessions which featured each click \n",
    "session_clicks_by_cluster2 = clickstream_nonsequential_summaries_features_binary.groupby('cluster2').sum() / clickstream_nonsequential_summaries_features_binary.groupby('cluster2').count()"
   ]
  },
  {
   "cell_type": "code",
   "execution_count": 322,
   "id": "8a4c6860",
   "metadata": {
    "ExecuteTime": {
     "end_time": "2021-12-21T02:29:55.802083Z",
     "start_time": "2021-12-21T02:29:54.974258Z"
    }
   },
   "outputs": [
    {
     "data": {
      "text/plain": [
       "<AxesSubplot:ylabel='cluster2'>"
      ]
     },
     "execution_count": 322,
     "metadata": {},
     "output_type": "execute_result"
    },
    {
     "data": {
      "image/png": "[encoded data removed]",
      "text/plain": [
       "<Figure size 1080x432 with 2 Axes>"
      ]
     },
     "metadata": {},
     "output_type": "display_data"
    }
   ],
   "source": [
    "sns.set(rc = {'figure.figsize':(15,6)})\n",
    "sns.heatmap(round(session_clicks_by_cluster2.drop(['cluster'], axis=1),2), annot=True, cmap=\"YlGnBu\")"
   ]
  },
  {
   "cell_type": "markdown",
   "id": "cb1a1db3",
   "metadata": {},
   "source": [
    "##### Cluster Centroids and Sizes"
   ]
  },
  {
   "cell_type": "code",
   "execution_count": 323,
   "id": "7d2bf189",
   "metadata": {
    "ExecuteTime": {
     "end_time": "2021-12-21T02:31:11.825399Z",
     "start_time": "2021-12-21T02:31:11.806308Z"
    }
   },
   "outputs": [],
   "source": [
    "# list of centroids with col names\n",
    "cluster_centroids_with_col2 = [list(zip(clickstream_nonsequential_summaries_features_binary.columns, i)) for i in model2.cluster_centroids_]"
   ]
  },
  {
   "cell_type": "code",
   "execution_count": 324,
   "id": "c24ab071",
   "metadata": {
    "ExecuteTime": {
     "end_time": "2021-12-21T02:31:11.951994Z",
     "start_time": "2021-12-21T02:31:11.944118Z"
    }
   },
   "outputs": [],
   "source": [
    "# cluster centroids\n",
    "cluster_centroids2 = [[col[0] for col in cluster_centroid if col[1]] for cluster_centroid in cluster_centroids_with_col2]"
   ]
  },
  {
   "cell_type": "code",
   "execution_count": 325,
   "id": "6c4c082b",
   "metadata": {
    "ExecuteTime": {
     "end_time": "2021-12-21T02:31:12.107937Z",
     "start_time": "2021-12-21T02:31:12.085100Z"
    }
   },
   "outputs": [],
   "source": [
    "# cluster sizes \n",
    "cluster_sizes2 = clickstream_nonsequential_summaries_features_binary[['cluster2', 'Discover Filtering']].groupby('cluster2').count().rename(columns={'Discover Filtering': 'Total Sessions'})"
   ]
  },
  {
   "cell_type": "code",
   "execution_count": 326,
   "id": "5bf583b5",
   "metadata": {
    "ExecuteTime": {
     "end_time": "2021-12-21T02:31:12.247646Z",
     "start_time": "2021-12-21T02:31:12.229209Z"
    }
   },
   "outputs": [],
   "source": [
    "# clusters \n",
    "clusters2 = list(range(0,len(cluster_centroids2)))"
   ]
  },
  {
   "cell_type": "code",
   "execution_count": 327,
   "id": "6f35457e",
   "metadata": {
    "ExecuteTime": {
     "end_time": "2021-12-21T02:31:12.404102Z",
     "start_time": "2021-12-21T02:31:12.391091Z"
    }
   },
   "outputs": [],
   "source": [
    "# initialize df \n",
    "cluster_centroids_and_sizes2 = pd.DataFrame(columns=['Cluster', 'Centroids', 'Total Sessions'])\n",
    "\n",
    "# add data\n",
    "cluster_centroids_and_sizes2['Cluster'] = clusters2\n",
    "cluster_centroids_and_sizes2['Centroids'] = cluster_centroids2\n",
    "cluster_centroids_and_sizes2['Total Sessions'] = cluster_sizes2"
   ]
  },
  {
   "cell_type": "code",
   "execution_count": 328,
   "id": "c13a7e90",
   "metadata": {
    "ExecuteTime": {
     "end_time": "2021-12-21T02:31:12.543184Z",
     "start_time": "2021-12-21T02:31:12.533183Z"
    }
   },
   "outputs": [],
   "source": [
    "# sort\n",
    "cluster_centroids_and_sizes2 = cluster_centroids_and_sizes2.sort_values(by='Total Sessions',\n",
    "                                                                        ascending=False)"
   ]
  },
  {
   "cell_type": "code",
   "execution_count": 329,
   "id": "b4821c5d",
   "metadata": {
    "ExecuteTime": {
     "end_time": "2021-12-21T02:31:12.713938Z",
     "start_time": "2021-12-21T02:31:12.690321Z"
    }
   },
   "outputs": [
    {
     "data": {
      "text/html": [
       "<div>\n",
       "<style scoped>\n",
       "    .dataframe tbody tr th:only-of-type {\n",
       "        vertical-align: middle;\n",
       "    }\n",
       "\n",
       "    .dataframe tbody tr th {\n",
       "        vertical-align: top;\n",
       "    }\n",
       "\n",
       "    .dataframe thead th {\n",
       "        text-align: right;\n",
       "    }\n",
       "</style>\n",
       "<table border=\"1\" class=\"dataframe\">\n",
       "  <thead>\n",
       "    <tr style=\"text-align: right;\">\n",
       "      <th></th>\n",
       "      <th>Cluster</th>\n",
       "      <th>Centroids</th>\n",
       "      <th>Total Sessions</th>\n",
       "    </tr>\n",
       "  </thead>\n",
       "  <tbody>\n",
       "    <tr>\n",
       "      <th>3</th>\n",
       "      <td>3</td>\n",
       "      <td>[Rocket Chat Launch, Toolbar - Discover]</td>\n",
       "      <td>66835</td>\n",
       "    </tr>\n",
       "    <tr>\n",
       "      <th>1</th>\n",
       "      <td>1</td>\n",
       "      <td>[Toolbar - Discover]</td>\n",
       "      <td>39234</td>\n",
       "    </tr>\n",
       "    <tr>\n",
       "      <th>0</th>\n",
       "      <td>0</td>\n",
       "      <td>[File Download, Page View - COI, Search - Query, Toolbar - Discover]</td>\n",
       "      <td>24431</td>\n",
       "    </tr>\n",
       "    <tr>\n",
       "      <th>4</th>\n",
       "      <td>4</td>\n",
       "      <td>[File Download, Page View - Portal, Toolbar - Discover, Toolbar - Portal]</td>\n",
       "      <td>19627</td>\n",
       "    </tr>\n",
       "    <tr>\n",
       "      <th>2</th>\n",
       "      <td>2</td>\n",
       "      <td>[Rocket Chat Launch]</td>\n",
       "      <td>12356</td>\n",
       "    </tr>\n",
       "  </tbody>\n",
       "</table>\n",
       "</div>"
      ],
      "text/plain": [
       "   Cluster  \\\n",
       "3        3   \n",
       "1        1   \n",
       "0        0   \n",
       "4        4   \n",
       "2        2   \n",
       "\n",
       "                                                                   Centroids  \\\n",
       "3                                   [Rocket Chat Launch, Toolbar - Discover]   \n",
       "1                                                       [Toolbar - Discover]   \n",
       "0       [File Download, Page View - COI, Search - Query, Toolbar - Discover]   \n",
       "4  [File Download, Page View - Portal, Toolbar - Discover, Toolbar - Portal]   \n",
       "2                                                       [Rocket Chat Launch]   \n",
       "\n",
       "   Total Sessions  \n",
       "3           66835  \n",
       "1           39234  \n",
       "0           24431  \n",
       "4           19627  \n",
       "2           12356  "
      ]
     },
     "execution_count": 329,
     "metadata": {},
     "output_type": "execute_result"
    }
   ],
   "source": [
    "cluster_centroids_and_sizes2"
   ]
  },
  {
   "cell_type": "code",
   "execution_count": 330,
   "id": "f90f924e",
   "metadata": {
    "ExecuteTime": {
     "end_time": "2021-12-21T02:31:13.462415Z",
     "start_time": "2021-12-21T02:31:13.311545Z"
    }
   },
   "outputs": [
    {
     "data": {
      "image/png": "[encoded data removed]",
      "text/plain": [
       "<Figure size 1080x1080 with 1 Axes>"
      ]
     },
     "metadata": {},
     "output_type": "display_data"
    }
   ],
   "source": [
    "# plot and create labels\n",
    "#squarify.plot(sizes=cluster_centroids_and_sizes['Total Sessions'], label=cluster_centroids_and_sizes['Cluster'], alpha=.8 )\n",
    "perc2 = [f'{i/cluster_centroids_and_sizes2[\"Total Sessions\"].sum()*100:5.2f}%' for i in cluster_centroids_and_sizes2['Total Sessions']]\n",
    "lbl2 = [f'{el[0]} = {el[1]}' for el in zip(cluster_centroids_and_sizes2['Cluster'], perc2)]\n",
    "\n",
    "sns.set(rc = {'figure.figsize':(15,15)})\n",
    "squarify.plot(sizes=cluster_centroids_and_sizes2['Total Sessions'], label=lbl2, alpha=.8)\n",
    "plt.axis('off')\n",
    "plt.show();"
   ]
  },
  {
   "cell_type": "markdown",
   "id": "f8230634",
   "metadata": {
    "ExecuteTime": {
     "end_time": "2021-12-19T21:01:05.556589Z",
     "start_time": "2021-12-19T21:01:05.530867Z"
    }
   },
   "source": [
    "##### Investigating Specific Cluster Sessions"
   ]
  },
  {
   "cell_type": "code",
   "execution_count": 331,
   "id": "89aa1680",
   "metadata": {
    "ExecuteTime": {
     "end_time": "2021-12-21T02:31:18.580140Z",
     "start_time": "2021-12-21T02:31:18.542141Z"
    }
   },
   "outputs": [],
   "source": [
    "# add session and email data to binary clickstream summaries\n",
    "clickstreams_with_clusters2 = clickstream_nonsequential_summaries_features_binary.merge(clickstream_nonsequential_summaries[['email', 'session']],\n",
    "                                                                                          how='left',\n",
    "                                                                                          right_index=True,\n",
    "                                                                                          left_index=True)"
   ]
  },
  {
   "cell_type": "code",
   "execution_count": 332,
   "id": "d44e1897",
   "metadata": {
    "ExecuteTime": {
     "end_time": "2021-12-21T02:31:19.251757Z",
     "start_time": "2021-12-21T02:31:18.699050Z"
    }
   },
   "outputs": [],
   "source": [
    "# add email and session data \n",
    "full_clickstreams_with_cluster2 = clickstream_final.merge(clickstreams_with_clusters2[['email', 'session', 'cluster2']], \n",
    "                                    on=['email', 'session'],\n",
    "                                    how='left')"
   ]
  },
  {
   "cell_type": "code",
   "execution_count": 333,
   "id": "cedfad91",
   "metadata": {
    "ExecuteTime": {
     "end_time": "2021-12-21T02:31:19.359909Z",
     "start_time": "2021-12-21T02:31:19.253668Z"
    },
    "scrolled": true
   },
   "outputs": [
    {
     "data": {
      "text/html": [
       "<div>\n",
       "<style scoped>\n",
       "    .dataframe tbody tr th:only-of-type {\n",
       "        vertical-align: middle;\n",
       "    }\n",
       "\n",
       "    .dataframe tbody tr th {\n",
       "        vertical-align: top;\n",
       "    }\n",
       "\n",
       "    .dataframe thead th {\n",
       "        text-align: right;\n",
       "    }\n",
       "</style>\n",
       "<table border=\"1\" class=\"dataframe\">\n",
       "  <thead>\n",
       "    <tr style=\"text-align: right;\">\n",
       "      <th></th>\n",
       "      <th>email</th>\n",
       "      <th>_time</th>\n",
       "      <th>click</th>\n",
       "      <th>new_session</th>\n",
       "      <th>session</th>\n",
       "      <th>previous_click</th>\n",
       "      <th>cluster2</th>\n",
       "    </tr>\n",
       "  </thead>\n",
       "  <tbody>\n",
       "    <tr>\n",
       "      <th>826958</th>\n",
       "      <td>zachary.r.taylor@nga.mil</td>\n",
       "      <td>2021-08-24 08:07:09+00:00</td>\n",
       "      <td>Rocket Chat Launch</td>\n",
       "      <td>True</td>\n",
       "      <td>147</td>\n",
       "      <td>NaN</td>\n",
       "      <td>2</td>\n",
       "    </tr>\n",
       "    <tr>\n",
       "      <th>826959</th>\n",
       "      <td>zachary.r.taylor@nga.mil</td>\n",
       "      <td>2021-08-25 13:27:10+00:00</td>\n",
       "      <td>Rocket Chat Launch</td>\n",
       "      <td>True</td>\n",
       "      <td>148</td>\n",
       "      <td>NaN</td>\n",
       "      <td>2</td>\n",
       "    </tr>\n",
       "    <tr>\n",
       "      <th>826960</th>\n",
       "      <td>zachary.r.taylor@nga.mil</td>\n",
       "      <td>2021-08-26 08:08:28+00:00</td>\n",
       "      <td>Rocket Chat Launch</td>\n",
       "      <td>True</td>\n",
       "      <td>149</td>\n",
       "      <td>NaN</td>\n",
       "      <td>2</td>\n",
       "    </tr>\n",
       "    <tr>\n",
       "      <th>826961</th>\n",
       "      <td>zachary.r.taylor@nga.mil</td>\n",
       "      <td>2021-08-27 08:07:17+00:00</td>\n",
       "      <td>Rocket Chat Launch</td>\n",
       "      <td>True</td>\n",
       "      <td>150</td>\n",
       "      <td>NaN</td>\n",
       "      <td>2</td>\n",
       "    </tr>\n",
       "    <tr>\n",
       "      <th>826962</th>\n",
       "      <td>zachary.r.taylor@nga.mil</td>\n",
       "      <td>2021-08-30 13:37:20+00:00</td>\n",
       "      <td>Rocket Chat Launch</td>\n",
       "      <td>True</td>\n",
       "      <td>151</td>\n",
       "      <td>NaN</td>\n",
       "      <td>2</td>\n",
       "    </tr>\n",
       "    <tr>\n",
       "      <th>826963</th>\n",
       "      <td>zachary.r.taylor@nga.mil</td>\n",
       "      <td>2021-08-31 08:06:20+00:00</td>\n",
       "      <td>Rocket Chat Launch</td>\n",
       "      <td>True</td>\n",
       "      <td>152</td>\n",
       "      <td>NaN</td>\n",
       "      <td>2</td>\n",
       "    </tr>\n",
       "    <tr>\n",
       "      <th>826964</th>\n",
       "      <td>zachary.r.taylor@nga.mil</td>\n",
       "      <td>2021-09-01 13:38:52+00:00</td>\n",
       "      <td>Rocket Chat Launch</td>\n",
       "      <td>True</td>\n",
       "      <td>153</td>\n",
       "      <td>NaN</td>\n",
       "      <td>2</td>\n",
       "    </tr>\n",
       "    <tr>\n",
       "      <th>826965</th>\n",
       "      <td>zachary.r.taylor@nga.mil</td>\n",
       "      <td>2021-09-02 08:07:56+00:00</td>\n",
       "      <td>Rocket Chat Launch</td>\n",
       "      <td>True</td>\n",
       "      <td>154</td>\n",
       "      <td>NaN</td>\n",
       "      <td>2</td>\n",
       "    </tr>\n",
       "    <tr>\n",
       "      <th>826966</th>\n",
       "      <td>zachary.r.taylor@nga.mil</td>\n",
       "      <td>2021-09-07 14:37:46+00:00</td>\n",
       "      <td>Rocket Chat Launch</td>\n",
       "      <td>True</td>\n",
       "      <td>155</td>\n",
       "      <td>NaN</td>\n",
       "      <td>2</td>\n",
       "    </tr>\n",
       "    <tr>\n",
       "      <th>826967</th>\n",
       "      <td>zachary.r.taylor@nga.mil</td>\n",
       "      <td>2021-09-08 09:05:31+00:00</td>\n",
       "      <td>Rocket Chat Launch</td>\n",
       "      <td>True</td>\n",
       "      <td>156</td>\n",
       "      <td>NaN</td>\n",
       "      <td>2</td>\n",
       "    </tr>\n",
       "    <tr>\n",
       "      <th>826968</th>\n",
       "      <td>zachary.r.taylor@nga.mil</td>\n",
       "      <td>2021-09-09 08:06:32+00:00</td>\n",
       "      <td>Rocket Chat Launch</td>\n",
       "      <td>True</td>\n",
       "      <td>157</td>\n",
       "      <td>NaN</td>\n",
       "      <td>2</td>\n",
       "    </tr>\n",
       "    <tr>\n",
       "      <th>826969</th>\n",
       "      <td>zachary.r.taylor@nga.mil</td>\n",
       "      <td>2021-09-13 14:19:56+00:00</td>\n",
       "      <td>Rocket Chat Launch</td>\n",
       "      <td>True</td>\n",
       "      <td>158</td>\n",
       "      <td>NaN</td>\n",
       "      <td>2</td>\n",
       "    </tr>\n",
       "    <tr>\n",
       "      <th>826970</th>\n",
       "      <td>zachary.r.taylor@nga.mil</td>\n",
       "      <td>2021-09-14 08:08:02+00:00</td>\n",
       "      <td>Rocket Chat Launch</td>\n",
       "      <td>True</td>\n",
       "      <td>159</td>\n",
       "      <td>NaN</td>\n",
       "      <td>2</td>\n",
       "    </tr>\n",
       "    <tr>\n",
       "      <th>826971</th>\n",
       "      <td>zachary.r.taylor@nga.mil</td>\n",
       "      <td>2021-09-15 15:47:17+00:00</td>\n",
       "      <td>Rocket Chat Launch</td>\n",
       "      <td>True</td>\n",
       "      <td>160</td>\n",
       "      <td>NaN</td>\n",
       "      <td>2</td>\n",
       "    </tr>\n",
       "    <tr>\n",
       "      <th>826972</th>\n",
       "      <td>zachary.r.taylor@nga.mil</td>\n",
       "      <td>2021-09-16 08:07:11+00:00</td>\n",
       "      <td>Rocket Chat Launch</td>\n",
       "      <td>True</td>\n",
       "      <td>161</td>\n",
       "      <td>NaN</td>\n",
       "      <td>2</td>\n",
       "    </tr>\n",
       "    <tr>\n",
       "      <th>826973</th>\n",
       "      <td>zachary.r.taylor@nga.mil</td>\n",
       "      <td>2021-09-16 15:07:22+00:00</td>\n",
       "      <td>Rocket Chat Launch</td>\n",
       "      <td>True</td>\n",
       "      <td>162</td>\n",
       "      <td>NaN</td>\n",
       "      <td>2</td>\n",
       "    </tr>\n",
       "    <tr>\n",
       "      <th>826974</th>\n",
       "      <td>zachary.r.taylor@nga.mil</td>\n",
       "      <td>2021-09-17 08:08:01+00:00</td>\n",
       "      <td>Rocket Chat Launch</td>\n",
       "      <td>True</td>\n",
       "      <td>163</td>\n",
       "      <td>NaN</td>\n",
       "      <td>2</td>\n",
       "    </tr>\n",
       "    <tr>\n",
       "      <th>826975</th>\n",
       "      <td>zachary.r.taylor@nga.mil</td>\n",
       "      <td>2021-09-20 13:25:06+00:00</td>\n",
       "      <td>Rocket Chat Launch</td>\n",
       "      <td>True</td>\n",
       "      <td>164</td>\n",
       "      <td>NaN</td>\n",
       "      <td>2</td>\n",
       "    </tr>\n",
       "    <tr>\n",
       "      <th>826976</th>\n",
       "      <td>zachary.r.taylor@nga.mil</td>\n",
       "      <td>2021-09-21 08:11:05+00:00</td>\n",
       "      <td>Rocket Chat Launch</td>\n",
       "      <td>True</td>\n",
       "      <td>165</td>\n",
       "      <td>NaN</td>\n",
       "      <td>2</td>\n",
       "    </tr>\n",
       "    <tr>\n",
       "      <th>826977</th>\n",
       "      <td>zachary.r.taylor@nga.mil</td>\n",
       "      <td>2021-09-22 13:23:55+00:00</td>\n",
       "      <td>Rocket Chat Launch</td>\n",
       "      <td>True</td>\n",
       "      <td>166</td>\n",
       "      <td>NaN</td>\n",
       "      <td>2</td>\n",
       "    </tr>\n",
       "    <tr>\n",
       "      <th>826978</th>\n",
       "      <td>zachary.r.taylor@nga.mil</td>\n",
       "      <td>2021-09-23 08:09:42+00:00</td>\n",
       "      <td>Rocket Chat Launch</td>\n",
       "      <td>True</td>\n",
       "      <td>167</td>\n",
       "      <td>NaN</td>\n",
       "      <td>2</td>\n",
       "    </tr>\n",
       "    <tr>\n",
       "      <th>826979</th>\n",
       "      <td>zachary.r.taylor@nga.mil</td>\n",
       "      <td>2021-09-27 15:26:11+00:00</td>\n",
       "      <td>Rocket Chat Launch</td>\n",
       "      <td>True</td>\n",
       "      <td>168</td>\n",
       "      <td>NaN</td>\n",
       "      <td>2</td>\n",
       "    </tr>\n",
       "    <tr>\n",
       "      <th>826980</th>\n",
       "      <td>zachary.r.taylor@nga.mil</td>\n",
       "      <td>2021-09-28 08:17:22+00:00</td>\n",
       "      <td>Rocket Chat Launch</td>\n",
       "      <td>True</td>\n",
       "      <td>169</td>\n",
       "      <td>NaN</td>\n",
       "      <td>2</td>\n",
       "    </tr>\n",
       "    <tr>\n",
       "      <th>826981</th>\n",
       "      <td>zachary.r.taylor@nga.mil</td>\n",
       "      <td>2021-09-28 13:52:58+00:00</td>\n",
       "      <td>Rocket Chat Launch</td>\n",
       "      <td>True</td>\n",
       "      <td>170</td>\n",
       "      <td>NaN</td>\n",
       "      <td>2</td>\n",
       "    </tr>\n",
       "    <tr>\n",
       "      <th>826982</th>\n",
       "      <td>zachary.r.taylor@nga.mil</td>\n",
       "      <td>2021-09-29 08:14:35+00:00</td>\n",
       "      <td>Rocket Chat Launch</td>\n",
       "      <td>True</td>\n",
       "      <td>171</td>\n",
       "      <td>NaN</td>\n",
       "      <td>2</td>\n",
       "    </tr>\n",
       "    <tr>\n",
       "      <th>826983</th>\n",
       "      <td>zachary.r.taylor@nga.mil</td>\n",
       "      <td>2021-09-29 12:17:53+00:00</td>\n",
       "      <td>Rocket Chat Launch</td>\n",
       "      <td>True</td>\n",
       "      <td>172</td>\n",
       "      <td>NaN</td>\n",
       "      <td>2</td>\n",
       "    </tr>\n",
       "    <tr>\n",
       "      <th>826984</th>\n",
       "      <td>zachary.r.taylor@nga.mil</td>\n",
       "      <td>2021-09-30 08:08:58+00:00</td>\n",
       "      <td>Rocket Chat Launch</td>\n",
       "      <td>True</td>\n",
       "      <td>173</td>\n",
       "      <td>NaN</td>\n",
       "      <td>2</td>\n",
       "    </tr>\n",
       "    <tr>\n",
       "      <th>826985</th>\n",
       "      <td>zachary.r.taylor@nga.mil</td>\n",
       "      <td>2021-10-04 13:28:10+00:00</td>\n",
       "      <td>Rocket Chat Launch</td>\n",
       "      <td>True</td>\n",
       "      <td>174</td>\n",
       "      <td>NaN</td>\n",
       "      <td>2</td>\n",
       "    </tr>\n",
       "    <tr>\n",
       "      <th>826986</th>\n",
       "      <td>zachary.r.taylor@nga.mil</td>\n",
       "      <td>2021-10-05 08:00:06+00:00</td>\n",
       "      <td>Rocket Chat Launch</td>\n",
       "      <td>True</td>\n",
       "      <td>175</td>\n",
       "      <td>NaN</td>\n",
       "      <td>2</td>\n",
       "    </tr>\n",
       "    <tr>\n",
       "      <th>826987</th>\n",
       "      <td>zachary.r.taylor@nga.mil</td>\n",
       "      <td>2021-10-06 13:34:08+00:00</td>\n",
       "      <td>Rocket Chat Launch</td>\n",
       "      <td>True</td>\n",
       "      <td>176</td>\n",
       "      <td>NaN</td>\n",
       "      <td>2</td>\n",
       "    </tr>\n",
       "    <tr>\n",
       "      <th>826988</th>\n",
       "      <td>zachary.r.taylor@nga.mil</td>\n",
       "      <td>2021-10-07 08:07:27+00:00</td>\n",
       "      <td>Rocket Chat Launch</td>\n",
       "      <td>True</td>\n",
       "      <td>177</td>\n",
       "      <td>NaN</td>\n",
       "      <td>2</td>\n",
       "    </tr>\n",
       "    <tr>\n",
       "      <th>826989</th>\n",
       "      <td>zachary.r.taylor@nga.mil</td>\n",
       "      <td>2021-10-12 13:30:39+00:00</td>\n",
       "      <td>Rocket Chat Launch</td>\n",
       "      <td>True</td>\n",
       "      <td>178</td>\n",
       "      <td>NaN</td>\n",
       "      <td>2</td>\n",
       "    </tr>\n",
       "    <tr>\n",
       "      <th>826990</th>\n",
       "      <td>zachary.r.taylor@nga.mil</td>\n",
       "      <td>2021-10-13 08:07:59+00:00</td>\n",
       "      <td>Rocket Chat Launch</td>\n",
       "      <td>True</td>\n",
       "      <td>179</td>\n",
       "      <td>NaN</td>\n",
       "      <td>2</td>\n",
       "    </tr>\n",
       "    <tr>\n",
       "      <th>826991</th>\n",
       "      <td>zachary.r.taylor@nga.mil</td>\n",
       "      <td>2021-10-14 13:25:47+00:00</td>\n",
       "      <td>Rocket Chat Launch</td>\n",
       "      <td>True</td>\n",
       "      <td>180</td>\n",
       "      <td>NaN</td>\n",
       "      <td>2</td>\n",
       "    </tr>\n",
       "    <tr>\n",
       "      <th>826992</th>\n",
       "      <td>zachary.r.taylor@nga.mil</td>\n",
       "      <td>2021-10-15 08:12:00+00:00</td>\n",
       "      <td>Rocket Chat Launch</td>\n",
       "      <td>True</td>\n",
       "      <td>181</td>\n",
       "      <td>NaN</td>\n",
       "      <td>2</td>\n",
       "    </tr>\n",
       "    <tr>\n",
       "      <th>826993</th>\n",
       "      <td>zachary.r.taylor@nga.mil</td>\n",
       "      <td>2021-10-15 13:01:47+00:00</td>\n",
       "      <td>Rocket Chat Launch</td>\n",
       "      <td>True</td>\n",
       "      <td>182</td>\n",
       "      <td>NaN</td>\n",
       "      <td>2</td>\n",
       "    </tr>\n",
       "    <tr>\n",
       "      <th>826994</th>\n",
       "      <td>zachary.r.taylor@nga.mil</td>\n",
       "      <td>2021-10-18 12:45:00+00:00</td>\n",
       "      <td>Rocket Chat Launch</td>\n",
       "      <td>True</td>\n",
       "      <td>183</td>\n",
       "      <td>NaN</td>\n",
       "      <td>2</td>\n",
       "    </tr>\n",
       "    <tr>\n",
       "      <th>826995</th>\n",
       "      <td>zachary.r.taylor@nga.mil</td>\n",
       "      <td>2021-10-19 08:11:14+00:00</td>\n",
       "      <td>Rocket Chat Launch</td>\n",
       "      <td>True</td>\n",
       "      <td>184</td>\n",
       "      <td>NaN</td>\n",
       "      <td>2</td>\n",
       "    </tr>\n",
       "    <tr>\n",
       "      <th>826996</th>\n",
       "      <td>zachary.r.taylor@nga.mil</td>\n",
       "      <td>2021-10-20 13:31:51+00:00</td>\n",
       "      <td>Rocket Chat Launch</td>\n",
       "      <td>True</td>\n",
       "      <td>185</td>\n",
       "      <td>NaN</td>\n",
       "      <td>2</td>\n",
       "    </tr>\n",
       "    <tr>\n",
       "      <th>826997</th>\n",
       "      <td>zachary.r.taylor@nga.mil</td>\n",
       "      <td>2021-10-21 10:01:30+00:00</td>\n",
       "      <td>Rocket Chat Launch</td>\n",
       "      <td>True</td>\n",
       "      <td>186</td>\n",
       "      <td>NaN</td>\n",
       "      <td>2</td>\n",
       "    </tr>\n",
       "    <tr>\n",
       "      <th>826998</th>\n",
       "      <td>zachary.r.taylor@nga.mil</td>\n",
       "      <td>2021-10-25 08:27:49+00:00</td>\n",
       "      <td>Rocket Chat Launch</td>\n",
       "      <td>True</td>\n",
       "      <td>187</td>\n",
       "      <td>NaN</td>\n",
       "      <td>2</td>\n",
       "    </tr>\n",
       "    <tr>\n",
       "      <th>826999</th>\n",
       "      <td>zachary.r.taylor@nga.mil</td>\n",
       "      <td>2021-10-25 13:28:44+00:00</td>\n",
       "      <td>Rocket Chat Launch</td>\n",
       "      <td>True</td>\n",
       "      <td>188</td>\n",
       "      <td>NaN</td>\n",
       "      <td>2</td>\n",
       "    </tr>\n",
       "    <tr>\n",
       "      <th>827000</th>\n",
       "      <td>zachary.r.taylor@nga.mil</td>\n",
       "      <td>2021-10-26 08:47:33+00:00</td>\n",
       "      <td>Rocket Chat Launch</td>\n",
       "      <td>True</td>\n",
       "      <td>189</td>\n",
       "      <td>NaN</td>\n",
       "      <td>2</td>\n",
       "    </tr>\n",
       "    <tr>\n",
       "      <th>827001</th>\n",
       "      <td>zachary.r.taylor@nga.mil</td>\n",
       "      <td>2021-10-27 08:15:49+00:00</td>\n",
       "      <td>Rocket Chat Launch</td>\n",
       "      <td>True</td>\n",
       "      <td>190</td>\n",
       "      <td>NaN</td>\n",
       "      <td>2</td>\n",
       "    </tr>\n",
       "    <tr>\n",
       "      <th>827002</th>\n",
       "      <td>zachary.r.taylor@nga.mil</td>\n",
       "      <td>2021-10-28 08:03:34+00:00</td>\n",
       "      <td>Rocket Chat Launch</td>\n",
       "      <td>True</td>\n",
       "      <td>191</td>\n",
       "      <td>NaN</td>\n",
       "      <td>2</td>\n",
       "    </tr>\n",
       "    <tr>\n",
       "      <th>827003</th>\n",
       "      <td>zachary.r.taylor@nga.mil</td>\n",
       "      <td>2021-10-28 16:00:53+00:00</td>\n",
       "      <td>Rocket Chat Launch</td>\n",
       "      <td>True</td>\n",
       "      <td>192</td>\n",
       "      <td>NaN</td>\n",
       "      <td>2</td>\n",
       "    </tr>\n",
       "    <tr>\n",
       "      <th>828917</th>\n",
       "      <td>zikrullah786@yahoo.com</td>\n",
       "      <td>2021-02-25 09:18:57+00:00</td>\n",
       "      <td>GXP Launch</td>\n",
       "      <td>True</td>\n",
       "      <td>25</td>\n",
       "      <td>NaN</td>\n",
       "      <td>2</td>\n",
       "    </tr>\n",
       "    <tr>\n",
       "      <th>828918</th>\n",
       "      <td>zikrullah786@yahoo.com</td>\n",
       "      <td>2021-02-25 09:19:32+00:00</td>\n",
       "      <td>Rocket Chat Launch</td>\n",
       "      <td>False</td>\n",
       "      <td>25</td>\n",
       "      <td>GXP Launch</td>\n",
       "      <td>2</td>\n",
       "    </tr>\n",
       "    <tr>\n",
       "      <th>828919</th>\n",
       "      <td>zikrullah786@yahoo.com</td>\n",
       "      <td>2021-02-25 09:22:24+00:00</td>\n",
       "      <td>Page View - COI</td>\n",
       "      <td>False</td>\n",
       "      <td>25</td>\n",
       "      <td>Rocket Chat Launch</td>\n",
       "      <td>2</td>\n",
       "    </tr>\n",
       "    <tr>\n",
       "      <th>828920</th>\n",
       "      <td>zikrullah786@yahoo.com</td>\n",
       "      <td>2021-02-25 10:43:11+00:00</td>\n",
       "      <td>Toolbar - Mail</td>\n",
       "      <td>False</td>\n",
       "      <td>25</td>\n",
       "      <td>Page View - COI</td>\n",
       "      <td>2</td>\n",
       "    </tr>\n",
       "  </tbody>\n",
       "</table>\n",
       "</div>"
      ],
      "text/plain": [
       "                           email                     _time  \\\n",
       "826958  zachary.r.taylor@nga.mil 2021-08-24 08:07:09+00:00   \n",
       "826959  zachary.r.taylor@nga.mil 2021-08-25 13:27:10+00:00   \n",
       "826960  zachary.r.taylor@nga.mil 2021-08-26 08:08:28+00:00   \n",
       "826961  zachary.r.taylor@nga.mil 2021-08-27 08:07:17+00:00   \n",
       "826962  zachary.r.taylor@nga.mil 2021-08-30 13:37:20+00:00   \n",
       "826963  zachary.r.taylor@nga.mil 2021-08-31 08:06:20+00:00   \n",
       "826964  zachary.r.taylor@nga.mil 2021-09-01 13:38:52+00:00   \n",
       "826965  zachary.r.taylor@nga.mil 2021-09-02 08:07:56+00:00   \n",
       "826966  zachary.r.taylor@nga.mil 2021-09-07 14:37:46+00:00   \n",
       "826967  zachary.r.taylor@nga.mil 2021-09-08 09:05:31+00:00   \n",
       "826968  zachary.r.taylor@nga.mil 2021-09-09 08:06:32+00:00   \n",
       "826969  zachary.r.taylor@nga.mil 2021-09-13 14:19:56+00:00   \n",
       "826970  zachary.r.taylor@nga.mil 2021-09-14 08:08:02+00:00   \n",
       "826971  zachary.r.taylor@nga.mil 2021-09-15 15:47:17+00:00   \n",
       "826972  zachary.r.taylor@nga.mil 2021-09-16 08:07:11+00:00   \n",
       "826973  zachary.r.taylor@nga.mil 2021-09-16 15:07:22+00:00   \n",
       "826974  zachary.r.taylor@nga.mil 2021-09-17 08:08:01+00:00   \n",
       "826975  zachary.r.taylor@nga.mil 2021-09-20 13:25:06+00:00   \n",
       "826976  zachary.r.taylor@nga.mil 2021-09-21 08:11:05+00:00   \n",
       "826977  zachary.r.taylor@nga.mil 2021-09-22 13:23:55+00:00   \n",
       "826978  zachary.r.taylor@nga.mil 2021-09-23 08:09:42+00:00   \n",
       "826979  zachary.r.taylor@nga.mil 2021-09-27 15:26:11+00:00   \n",
       "826980  zachary.r.taylor@nga.mil 2021-09-28 08:17:22+00:00   \n",
       "826981  zachary.r.taylor@nga.mil 2021-09-28 13:52:58+00:00   \n",
       "826982  zachary.r.taylor@nga.mil 2021-09-29 08:14:35+00:00   \n",
       "826983  zachary.r.taylor@nga.mil 2021-09-29 12:17:53+00:00   \n",
       "826984  zachary.r.taylor@nga.mil 2021-09-30 08:08:58+00:00   \n",
       "826985  zachary.r.taylor@nga.mil 2021-10-04 13:28:10+00:00   \n",
       "826986  zachary.r.taylor@nga.mil 2021-10-05 08:00:06+00:00   \n",
       "826987  zachary.r.taylor@nga.mil 2021-10-06 13:34:08+00:00   \n",
       "826988  zachary.r.taylor@nga.mil 2021-10-07 08:07:27+00:00   \n",
       "826989  zachary.r.taylor@nga.mil 2021-10-12 13:30:39+00:00   \n",
       "826990  zachary.r.taylor@nga.mil 2021-10-13 08:07:59+00:00   \n",
       "826991  zachary.r.taylor@nga.mil 2021-10-14 13:25:47+00:00   \n",
       "826992  zachary.r.taylor@nga.mil 2021-10-15 08:12:00+00:00   \n",
       "826993  zachary.r.taylor@nga.mil 2021-10-15 13:01:47+00:00   \n",
       "826994  zachary.r.taylor@nga.mil 2021-10-18 12:45:00+00:00   \n",
       "826995  zachary.r.taylor@nga.mil 2021-10-19 08:11:14+00:00   \n",
       "826996  zachary.r.taylor@nga.mil 2021-10-20 13:31:51+00:00   \n",
       "826997  zachary.r.taylor@nga.mil 2021-10-21 10:01:30+00:00   \n",
       "826998  zachary.r.taylor@nga.mil 2021-10-25 08:27:49+00:00   \n",
       "826999  zachary.r.taylor@nga.mil 2021-10-25 13:28:44+00:00   \n",
       "827000  zachary.r.taylor@nga.mil 2021-10-26 08:47:33+00:00   \n",
       "827001  zachary.r.taylor@nga.mil 2021-10-27 08:15:49+00:00   \n",
       "827002  zachary.r.taylor@nga.mil 2021-10-28 08:03:34+00:00   \n",
       "827003  zachary.r.taylor@nga.mil 2021-10-28 16:00:53+00:00   \n",
       "828917    zikrullah786@yahoo.com 2021-02-25 09:18:57+00:00   \n",
       "828918    zikrullah786@yahoo.com 2021-02-25 09:19:32+00:00   \n",
       "828919    zikrullah786@yahoo.com 2021-02-25 09:22:24+00:00   \n",
       "828920    zikrullah786@yahoo.com 2021-02-25 10:43:11+00:00   \n",
       "\n",
       "                     click  new_session  session      previous_click  cluster2  \n",
       "826958  Rocket Chat Launch         True      147                 NaN         2  \n",
       "826959  Rocket Chat Launch         True      148                 NaN         2  \n",
       "826960  Rocket Chat Launch         True      149                 NaN         2  \n",
       "826961  Rocket Chat Launch         True      150                 NaN         2  \n",
       "826962  Rocket Chat Launch         True      151                 NaN         2  \n",
       "826963  Rocket Chat Launch         True      152                 NaN         2  \n",
       "826964  Rocket Chat Launch         True      153                 NaN         2  \n",
       "826965  Rocket Chat Launch         True      154                 NaN         2  \n",
       "826966  Rocket Chat Launch         True      155                 NaN         2  \n",
       "826967  Rocket Chat Launch         True      156                 NaN         2  \n",
       "826968  Rocket Chat Launch         True      157                 NaN         2  \n",
       "826969  Rocket Chat Launch         True      158                 NaN         2  \n",
       "826970  Rocket Chat Launch         True      159                 NaN         2  \n",
       "826971  Rocket Chat Launch         True      160                 NaN         2  \n",
       "826972  Rocket Chat Launch         True      161                 NaN         2  \n",
       "826973  Rocket Chat Launch         True      162                 NaN         2  \n",
       "826974  Rocket Chat Launch         True      163                 NaN         2  \n",
       "826975  Rocket Chat Launch         True      164                 NaN         2  \n",
       "826976  Rocket Chat Launch         True      165                 NaN         2  \n",
       "826977  Rocket Chat Launch         True      166                 NaN         2  \n",
       "826978  Rocket Chat Launch         True      167                 NaN         2  \n",
       "826979  Rocket Chat Launch         True      168                 NaN         2  \n",
       "826980  Rocket Chat Launch         True      169                 NaN         2  \n",
       "826981  Rocket Chat Launch         True      170                 NaN         2  \n",
       "826982  Rocket Chat Launch         True      171                 NaN         2  \n",
       "826983  Rocket Chat Launch         True      172                 NaN         2  \n",
       "826984  Rocket Chat Launch         True      173                 NaN         2  \n",
       "826985  Rocket Chat Launch         True      174                 NaN         2  \n",
       "826986  Rocket Chat Launch         True      175                 NaN         2  \n",
       "826987  Rocket Chat Launch         True      176                 NaN         2  \n",
       "826988  Rocket Chat Launch         True      177                 NaN         2  \n",
       "826989  Rocket Chat Launch         True      178                 NaN         2  \n",
       "826990  Rocket Chat Launch         True      179                 NaN         2  \n",
       "826991  Rocket Chat Launch         True      180                 NaN         2  \n",
       "826992  Rocket Chat Launch         True      181                 NaN         2  \n",
       "826993  Rocket Chat Launch         True      182                 NaN         2  \n",
       "826994  Rocket Chat Launch         True      183                 NaN         2  \n",
       "826995  Rocket Chat Launch         True      184                 NaN         2  \n",
       "826996  Rocket Chat Launch         True      185                 NaN         2  \n",
       "826997  Rocket Chat Launch         True      186                 NaN         2  \n",
       "826998  Rocket Chat Launch         True      187                 NaN         2  \n",
       "826999  Rocket Chat Launch         True      188                 NaN         2  \n",
       "827000  Rocket Chat Launch         True      189                 NaN         2  \n",
       "827001  Rocket Chat Launch         True      190                 NaN         2  \n",
       "827002  Rocket Chat Launch         True      191                 NaN         2  \n",
       "827003  Rocket Chat Launch         True      192                 NaN         2  \n",
       "828917          GXP Launch         True       25                 NaN         2  \n",
       "828918  Rocket Chat Launch        False       25          GXP Launch         2  \n",
       "828919     Page View - COI        False       25  Rocket Chat Launch         2  \n",
       "828920      Toolbar - Mail        False       25     Page View - COI         2  "
      ]
     },
     "execution_count": 333,
     "metadata": {},
     "output_type": "execute_result"
    }
   ],
   "source": [
    "# look at sessions for cluster of interest\n",
    "cluster_of_interest = 1\n",
    "\n",
    "full_clickstreams_with_cluster2[full_clickstreams_with_cluster2['cluster2'] == cluster_of_interest].tail(50)"
   ]
  },
  {
   "cell_type": "markdown",
   "id": "3eb8e4fc",
   "metadata": {},
   "source": [
    "##### Silhouette Score"
   ]
  },
  {
   "cell_type": "code",
   "execution_count": 334,
   "id": "b6e19799",
   "metadata": {
    "ExecuteTime": {
     "end_time": "2021-12-21T02:36:12.958845Z",
     "start_time": "2021-12-21T02:31:21.172850Z"
    }
   },
   "outputs": [
    {
     "data": {
      "text/plain": [
       "0.3055090865053114"
      ]
     },
     "execution_count": 334,
     "metadata": {},
     "output_type": "execute_result"
    }
   ],
   "source": [
    "silhouette_score(clickstream_nonsequential_summaries_features_binary.drop(['cluster2', 'cluster'], axis=1),\n",
    "                 clickstream_nonsequential_summaries_features_binary['cluster2'])"
   ]
  },
  {
   "cell_type": "code",
   "execution_count": null,
   "id": "fe5f0b53",
   "metadata": {},
   "outputs": [],
   "source": []
  }
 ],
 "metadata": {
  "kernelspec": {
   "display_name": "Python [conda env:non-seq-clickstream-clustering] *",
   "language": "python",
   "name": "conda-env-non-seq-clickstream-clustering-py"
  },
  "language_info": {
   "codemirror_mode": {
    "name": "ipython",
    "version": 3
   },
   "file_extension": ".py",
   "mimetype": "text/x-python",
   "name": "python",
   "nbconvert_exporter": "python",
   "pygments_lexer": "ipython3",
   "version": "3.7.12"
  },
  "toc": {
   "base_numbering": 1,
   "nav_menu": {},
   "number_sections": true,
   "sideBar": true,
   "skip_h1_title": false,
   "title_cell": "Table of Contents",
   "title_sidebar": "Contents",
   "toc_cell": false,
   "toc_position": {
    "height": "calc(100% - 180px)",
    "left": "10px",
    "top": "150px",
    "width": "384px"
   },
   "toc_section_display": true,
   "toc_window_display": true
  }
 },
 "nbformat": 4,
 "nbformat_minor": 5
}
